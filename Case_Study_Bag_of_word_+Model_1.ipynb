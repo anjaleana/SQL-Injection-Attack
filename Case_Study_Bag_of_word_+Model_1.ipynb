{
 "cells": [
  {
   "cell_type": "markdown",
   "metadata": {
    "id": "KsN4AByB1bIr"
   },
   "source": [
    "Bag of Words + Machine Learning Classifier"
   ]
  },
  {
   "cell_type": "markdown",
   "metadata": {
    "id": "TAwjeNJ9JfDs"
   },
   "source": [
    "**Import Libraries**"
   ]
  },
  {
   "cell_type": "code",
   "execution_count": 39,
   "metadata": {
    "id": "1Olve2UFKTLT"
   },
   "outputs": [],
   "source": [
    "### For computational and random seed purpose\n",
    "import numpy as np\n",
    "np.random.seed(42)\n",
    "#to read csv file\n",
    "import pandas as pd\n",
    "#To split into train and cv dataxw\n",
    "from sklearn.model_selection import train_test_split\n",
    "#To compute AUROC\n",
    "from sklearn.metrics import auc,roc_auc_score\n",
    "#for AUROC graph\n",
    "import matplotlib.pyplot as plt\n",
    "#for oversampling technique\n",
    "from imblearn.over_sampling import SMOTE # (https://imbalanced-learn.org/stable/references/generated/imblearn.over_sampling.SMOTE.html)\n",
    "#Data is imbalanced, we need calibrated model\n",
    "from sklearn.calibration import CalibratedClassifierCV\n",
    "#for hyperparameter tuning and Cross-validation fold\n",
    "from sklearn.model_selection import GridSearchCV,StratifiedKFold,RepeatedStratifiedKFold\n",
    "#to ignore the error message\n",
    "import warnings\n",
    "warnings.filterwarnings(\"ignore\")\n",
    "#for heatmap and other plotting technique\n",
    "import seaborn as sns\n",
    "#to strandize the real value data\n",
    "from sklearn.preprocessing import StandardScaler,MinMaxScaler\n",
    "from sklearn.preprocessing import LabelEncoder\n",
    "#To create Knn model on datasets\n",
    "from sklearn.neighbors import KNeighborsClassifier\n",
    "#for accuracy\n",
    "from sklearn.metrics import accuracy_score,confusion_matrix,f1_score\n",
    "# For applying model on datasets\n",
    "from sklearn.naive_bayes import GaussianNB\n",
    "from sklearn import svm\n",
    "from sklearn.tree import DecisionTreeClassifier\n",
    "from sklearn.ensemble import GradientBoostingClassifier\n",
    "from sklearn.ensemble import StackingClassifier\n",
    "\n",
    "#using simple network\n",
    "from keras.models import Sequential\n",
    "from keras import layers\n",
    "from keras.wrappers.scikit_learn import KerasClassifier\n",
    "import joblib\n",
    "import sys\n",
    "sys.modules['sklearn.externals.joblib'] = joblib\n",
    "from mlxtend.feature_selection import SequentialFeatureSelector\n",
    "from sklearn.linear_model import LogisticRegression\n",
    "from sklearn.feature_selection import RFE\n",
    "\n",
    "import warnings\n",
    "warnings.filterwarnings('ignore')\n",
    "from sklearn.naive_bayes import MultinomialNB\n",
    "from sklearn.preprocessing import RobustScaler\n",
    "from sklearn.svm import SVC"
   ]
  },
  {
   "cell_type": "code",
   "execution_count": null,
   "metadata": {
    "id": "QV5W8N9Lbyr2"
   },
   "outputs": [],
   "source": [
    "data = pd.read_csv(\"Modified_SQL_Dataset.csv\")"
   ]
  },
  {
   "cell_type": "code",
   "execution_count": null,
   "metadata": {
    "colab": {
     "base_uri": "https://localhost:8080/",
     "height": 206
    },
    "id": "BB36rTNBelV5",
    "outputId": "01a2225b-bb55-4edb-91e4-a9e6dad87409"
   },
   "outputs": [
    {
     "data": {
      "text/html": [
       "\n",
       "  <div id=\"df-a341629f-317f-455d-87ec-4e96d5e5678d\">\n",
       "    <div class=\"colab-df-container\">\n",
       "      <div>\n",
       "<style scoped>\n",
       "    .dataframe tbody tr th:only-of-type {\n",
       "        vertical-align: middle;\n",
       "    }\n",
       "\n",
       "    .dataframe tbody tr th {\n",
       "        vertical-align: top;\n",
       "    }\n",
       "\n",
       "    .dataframe thead th {\n",
       "        text-align: right;\n",
       "    }\n",
       "</style>\n",
       "<table border=\"1\" class=\"dataframe\">\n",
       "  <thead>\n",
       "    <tr style=\"text-align: right;\">\n",
       "      <th></th>\n",
       "      <th>Query</th>\n",
       "      <th>Label</th>\n",
       "    </tr>\n",
       "  </thead>\n",
       "  <tbody>\n",
       "    <tr>\n",
       "      <th>0</th>\n",
       "      <td>\" or pg_sleep  (  __TIME__  )  --</td>\n",
       "      <td>1</td>\n",
       "    </tr>\n",
       "    <tr>\n",
       "      <th>1</th>\n",
       "      <td>create user name identified by pass123 tempora...</td>\n",
       "      <td>1</td>\n",
       "    </tr>\n",
       "    <tr>\n",
       "      <th>2</th>\n",
       "      <td>AND 1  =  utl_inaddr.get_host_address   (    ...</td>\n",
       "      <td>1</td>\n",
       "    </tr>\n",
       "    <tr>\n",
       "      <th>3</th>\n",
       "      <td>select * from users where id  =  '1' or @ @1 ...</td>\n",
       "      <td>1</td>\n",
       "    </tr>\n",
       "    <tr>\n",
       "      <th>4</th>\n",
       "      <td>select * from users where id  =  1 or 1#\"  ( ...</td>\n",
       "      <td>1</td>\n",
       "    </tr>\n",
       "  </tbody>\n",
       "</table>\n",
       "</div>\n",
       "      <button class=\"colab-df-convert\" onclick=\"convertToInteractive('df-a341629f-317f-455d-87ec-4e96d5e5678d')\"\n",
       "              title=\"Convert this dataframe to an interactive table.\"\n",
       "              style=\"display:none;\">\n",
       "        \n",
       "  <svg xmlns=\"http://www.w3.org/2000/svg\" height=\"24px\"viewBox=\"0 0 24 24\"\n",
       "       width=\"24px\">\n",
       "    <path d=\"M0 0h24v24H0V0z\" fill=\"none\"/>\n",
       "    <path d=\"M18.56 5.44l.94 2.06.94-2.06 2.06-.94-2.06-.94-.94-2.06-.94 2.06-2.06.94zm-11 1L8.5 8.5l.94-2.06 2.06-.94-2.06-.94L8.5 2.5l-.94 2.06-2.06.94zm10 10l.94 2.06.94-2.06 2.06-.94-2.06-.94-.94-2.06-.94 2.06-2.06.94z\"/><path d=\"M17.41 7.96l-1.37-1.37c-.4-.4-.92-.59-1.43-.59-.52 0-1.04.2-1.43.59L10.3 9.45l-7.72 7.72c-.78.78-.78 2.05 0 2.83L4 21.41c.39.39.9.59 1.41.59.51 0 1.02-.2 1.41-.59l7.78-7.78 2.81-2.81c.8-.78.8-2.07 0-2.86zM5.41 20L4 18.59l7.72-7.72 1.47 1.35L5.41 20z\"/>\n",
       "  </svg>\n",
       "      </button>\n",
       "      \n",
       "  <style>\n",
       "    .colab-df-container {\n",
       "      display:flex;\n",
       "      flex-wrap:wrap;\n",
       "      gap: 12px;\n",
       "    }\n",
       "\n",
       "    .colab-df-convert {\n",
       "      background-color: #E8F0FE;\n",
       "      border: none;\n",
       "      border-radius: 50%;\n",
       "      cursor: pointer;\n",
       "      display: none;\n",
       "      fill: #1967D2;\n",
       "      height: 32px;\n",
       "      padding: 0 0 0 0;\n",
       "      width: 32px;\n",
       "    }\n",
       "\n",
       "    .colab-df-convert:hover {\n",
       "      background-color: #E2EBFA;\n",
       "      box-shadow: 0px 1px 2px rgba(60, 64, 67, 0.3), 0px 1px 3px 1px rgba(60, 64, 67, 0.15);\n",
       "      fill: #174EA6;\n",
       "    }\n",
       "\n",
       "    [theme=dark] .colab-df-convert {\n",
       "      background-color: #3B4455;\n",
       "      fill: #D2E3FC;\n",
       "    }\n",
       "\n",
       "    [theme=dark] .colab-df-convert:hover {\n",
       "      background-color: #434B5C;\n",
       "      box-shadow: 0px 1px 3px 1px rgba(0, 0, 0, 0.15);\n",
       "      filter: drop-shadow(0px 1px 2px rgba(0, 0, 0, 0.3));\n",
       "      fill: #FFFFFF;\n",
       "    }\n",
       "  </style>\n",
       "\n",
       "      <script>\n",
       "        const buttonEl =\n",
       "          document.querySelector('#df-a341629f-317f-455d-87ec-4e96d5e5678d button.colab-df-convert');\n",
       "        buttonEl.style.display =\n",
       "          google.colab.kernel.accessAllowed ? 'block' : 'none';\n",
       "\n",
       "        async function convertToInteractive(key) {\n",
       "          const element = document.querySelector('#df-a341629f-317f-455d-87ec-4e96d5e5678d');\n",
       "          const dataTable =\n",
       "            await google.colab.kernel.invokeFunction('convertToInteractive',\n",
       "                                                     [key], {});\n",
       "          if (!dataTable) return;\n",
       "\n",
       "          const docLinkHtml = 'Like what you see? Visit the ' +\n",
       "            '<a target=\"_blank\" href=https://colab.research.google.com/notebooks/data_table.ipynb>data table notebook</a>'\n",
       "            + ' to learn more about interactive tables.';\n",
       "          element.innerHTML = '';\n",
       "          dataTable['output_type'] = 'display_data';\n",
       "          await google.colab.output.renderOutput(dataTable, element);\n",
       "          const docLink = document.createElement('div');\n",
       "          docLink.innerHTML = docLinkHtml;\n",
       "          element.appendChild(docLink);\n",
       "        }\n",
       "      </script>\n",
       "    </div>\n",
       "  </div>\n",
       "  "
      ],
      "text/plain": [
       "                                               Query  Label\n",
       "0                  \" or pg_sleep  (  __TIME__  )  --      1\n",
       "1  create user name identified by pass123 tempora...      1\n",
       "2   AND 1  =  utl_inaddr.get_host_address   (    ...      1\n",
       "3   select * from users where id  =  '1' or @ @1 ...      1\n",
       "4   select * from users where id  =  1 or 1#\"  ( ...      1"
      ]
     },
     "execution_count": 3,
     "metadata": {},
     "output_type": "execute_result"
    }
   ],
   "source": [
    "data.drop_duplicates(inplace=True)\n",
    "data.head()"
   ]
  },
  {
   "cell_type": "code",
   "execution_count": null,
   "metadata": {
    "colab": {
     "base_uri": "https://localhost:8080/"
    },
    "id": "ZMLSWXzhfUqj",
    "outputId": "5e02aefc-3812-4363-9066-bba78991f6b7"
   },
   "outputs": [
    {
     "data": {
      "text/plain": [
       "(30907, 2)"
      ]
     },
     "execution_count": 4,
     "metadata": {},
     "output_type": "execute_result"
    }
   ],
   "source": [
    "data.shape"
   ]
  },
  {
   "cell_type": "code",
   "execution_count": null,
   "metadata": {
    "colab": {
     "base_uri": "https://localhost:8080/"
    },
    "id": "hflaLqhuqihU",
    "outputId": "98d8d599-3239-4936-e0ce-9f3183432d77"
   },
   "outputs": [
    {
     "name": "stdout",
     "output_type": "stream",
     "text": [
      "[nltk_data] Downloading package punkt to /root/nltk_data...\n",
      "[nltk_data]   Unzipping tokenizers/punkt.zip.\n",
      "[nltk_data] Downloading package wordnet to /root/nltk_data...\n",
      "[nltk_data]   Unzipping corpora/wordnet.zip.\n"
     ]
    }
   ],
   "source": [
    "import re\n",
    "import nltk\n",
    "nltk.download('punkt')\n",
    "nltk.download('wordnet')\n",
    "import string\n",
    "from sklearn.feature_extraction.text import TfidfTransformer\n",
    "from sklearn.feature_extraction.text import TfidfVectorizer\n",
    "from sklearn.feature_extraction.text import CountVectorizer\n",
    "from sklearn.metrics import confusion_matrix\n",
    "from sklearn import metrics\n",
    "from sklearn.metrics import roc_curve,auc\n",
    "from nltk.stem.porter import PorterStemmer\n",
    "# Tutorial about Python regular expressions: https://pymotw.com/2/re/\n",
    "from nltk.corpus import stopwords\n",
    "from nltk.stem import PorterStemmer\n",
    "from nltk.stem.wordnet import WordNetLemmatizer\n",
    "from gensim.models import word2vec\n",
    "from gensim.models import KeyedVectors\n",
    "import pickle\n",
    "\n",
    "from tqdm import tqdm\n",
    "import os"
   ]
  },
  {
   "cell_type": "code",
   "execution_count": null,
   "metadata": {
    "colab": {
     "base_uri": "https://localhost:8080/"
    },
    "id": "wV8siJX5qqcE",
    "outputId": "f0531b03-c245-478d-c0bf-c44b2bcd21b1"
   },
   "outputs": [
    {
     "name": "stdout",
     "output_type": "stream",
     "text": [
      "\" or pg_sleep  (  __TIME__  )  --\n",
      "==================================================\n",
      "-6073\"   )    )     )   or 9502  =  2012#\n",
      "==================================================\n",
      "wilson@autoconstruccion.fi\n",
      "==================================================\n",
      "  SELECT SUBSTR ( \"SQL Tutorial\", -5, 5 )  AS ExtractString;\n",
      "==================================================\n"
     ]
    }
   ],
   "source": [
    "#printing some random variable\n",
    "sent_0 = data['Query'].values[0]\n",
    "print(sent_0)\n",
    "print(\"=\"*50)\n",
    "\n",
    "sent_2000 = data['Query'].values[2000]\n",
    "print(sent_2000)\n",
    "print(\"=\"*50)\n",
    "\n",
    "sent_15000 = data['Query'].values[15000]\n",
    "print(sent_15000)\n",
    "print(\"=\"*50)\n",
    "\n",
    "sent_20000 = data['Query'].values[20000]\n",
    "print(sent_20000)\n",
    "print(\"=\"*50)"
   ]
  },
  {
   "cell_type": "code",
   "execution_count": null,
   "metadata": {
    "colab": {
     "base_uri": "https://localhost:8080/"
    },
    "id": "OEJv2Q-PqyNi",
    "outputId": "085a1550-9e9d-4a26-ee9f-52d3dd65810a"
   },
   "outputs": [
    {
     "name": "stdout",
     "output_type": "stream",
     "text": [
      "wilson autoconstruccion fi\n"
     ]
    }
   ],
   "source": [
    "#remove the special Character :  https://stackoverflow.com/a/5843547/4084039\n",
    "sent_15000 = re.sub('[^A-Za-z0-9]+',' ',sent_15000)\n",
    "print(sent_15000)"
   ]
  },
  {
   "cell_type": "code",
   "execution_count": null,
   "metadata": {
    "colab": {
     "base_uri": "https://localhost:8080/"
    },
    "id": "WZLVxQULqy29",
    "outputId": "a255f5fd-591b-4d70-a7cf-a87c48787ca2"
   },
   "outputs": [
    {
     "name": "stdout",
     "output_type": "stream",
     "text": [
      " SELECT SUBSTR SQL Tutorial 5 5 AS ExtractString \n"
     ]
    }
   ],
   "source": [
    "sent_20000 = re.sub('[^A-Za-z0-9]+',' ',sent_20000)\n",
    "print(sent_20000)"
   ]
  },
  {
   "cell_type": "code",
   "execution_count": null,
   "metadata": {
    "id": "y9o-LxYdq1hC"
   },
   "outputs": [],
   "source": [
    "stopwords= set(['br', 'the', 'i', 'me', 'my', 'myself', 'we', 'our', 'ours', 'ourselves', 'you', \"you're\", \"you've\",\\\n",
    "            \"you'll\", \"you'd\", 'your', 'yours', 'yourself', 'yourselves', 'he', 'him', 'his', 'himself', \\\n",
    "            'she', \"she's\", 'her', 'hers', 'herself', 'it', \"it's\", 'its', 'itself', 'they', 'them', 'their',\\\n",
    "            'theirs', 'themselves', 'what', 'which', 'who', 'whom', 'this', 'that', \"that'll\", 'these', 'those', \\\n",
    "            'am', 'is', 'are', 'was', 'were', 'be', 'been', 'being', 'have', 'has', 'had', 'having', 'do', 'does', \\\n",
    "            'did', 'doing', 'a', 'an', 'the', 'and', 'but', 'if', 'or', 'because', 'as', 'until', 'while', 'of', \\\n",
    "            'at', 'by', 'for', 'with', 'about', 'against', 'between', 'into', 'through', 'during', 'before', 'after',\\\n",
    "            'above', 'below', 'to', 'from', 'up', 'down', 'in', 'out', 'on', 'off', 'over', 'under', 'again', 'further',\\\n",
    "            'then', 'once', 'here', 'there', 'when', 'where', 'why', 'how', 'all', 'any', 'both', 'each', 'few', 'more',\\\n",
    "            'most', 'other', 'some', 'such', 'only', 'own', 'same', 'so', 'than', 'too', 'very', \\\n",
    "            's', 't', 'can', 'will', 'just', 'don', \"don't\", 'should', \"should've\", 'now', 'd', 'll', 'm', 'o', 're', \\\n",
    "            've', 'y', 'ain', 'aren', \"aren't\", 'couldn', \"couldn't\", 'didn', \"didn't\", 'doesn', \"doesn't\", 'hadn',\\\n",
    "            \"hadn't\", 'hasn', \"hasn't\", 'haven', \"haven't\", 'isn', \"isn't\", 'ma', 'mightn', \"mightn't\", 'mustn',\\\n",
    "            \"mustn't\", 'needn', \"needn't\", 'shan', \"shan't\", 'shouldn', \"shouldn't\", 'wasn', \"wasn't\", 'weren', \"weren't\", \\\n",
    "            'won', \"won't\", 'wouldn', \"wouldn't\"])"
   ]
  },
  {
   "cell_type": "code",
   "execution_count": null,
   "metadata": {
    "colab": {
     "base_uri": "https://localhost:8080/"
    },
    "id": "YzVrs1Evq8ov",
    "outputId": "1e97ec24-dfdf-4923-b54f-1fc2a457368e"
   },
   "outputs": [
    {
     "name": "stderr",
     "output_type": "stream",
     "text": [
      "100%|██████████| 30907/30907 [00:07<00:00, 4380.32it/s]\n"
     ]
    }
   ],
   "source": [
    "# Combining all the above stundents \n",
    "from tqdm import tqdm\n",
    "preprocessed_query = []\n",
    "lemmatizer = WordNetLemmatizer()\n",
    "# tqdm is for printing the status bar\n",
    "for sentance in tqdm(data['Query'].values):\n",
    "    sentance = re.sub('[^A-Za-z0-9]+', ' ', sentance)\n",
    "    sentance = re.sub(r',', ' ', sentance)\n",
    "    #https://www.machinelearningplus.com/nlp/lemmatization-examples-python/\n",
    "    tokenization = nltk.word_tokenize(sentance)\n",
    "    sentance = ' '.join([lemmatizer.lemmatize(w) for w in tokenization])\n",
    "    # https://gist.github.com/sebleier/554280\n",
    "    sentance = ' '.join(e.lower() for e in sentance.split() if e.lower() not in stopwords)\n",
    "    preprocessed_query.append(sentance.strip())"
   ]
  },
  {
   "cell_type": "code",
   "execution_count": null,
   "metadata": {
    "colab": {
     "base_uri": "https://localhost:8080/"
    },
    "id": "jLDgDFM6rvny",
    "outputId": "741f0e12-c67b-48da-90bd-c7943015e89d"
   },
   "outputs": [
    {
     "data": {
      "text/plain": [
       "['pg sleep time',\n",
       " 'create user name identified pass123 temporary tablespace temp default tablespace user',\n",
       " '1 utl inaddr get host address select distinct table name select distinct table name rownum limit sys table limit 5',\n",
       " 'select user id 1 1 1 union select 1 version 1',\n",
       " 'select user id 1 1 union select 1 version 1',\n",
       " 'select name syscolumns id select id sysobjects name tablename',\n",
       " 'select user id 1 1 1 1',\n",
       " '1 load file char 47 101 116 99 47 112 97 115 115 119 100 1 1 1',\n",
       " 'select user id 1 1 1 union select 1 version 1',\n",
       " 'select user id 1 union select 1 version 1',\n",
       " '1 1',\n",
       " '',\n",
       " 'admin 1 1',\n",
       " 'select user id 1 1 1 1',\n",
       " '1 1',\n",
       " '1 utl inaddr get host address select distinct column name select distinct column name rownum limit tab column limit 5',\n",
       " 'select user id 1 union select 1 version 1',\n",
       " 'select user id 1 1 1 1',\n",
       " 'select user id 1 1 1 1',\n",
       " 'distinct',\n",
       " 'select user id 1 1 1 1',\n",
       " '1 ascii lower substring select top 1 name sysobjects xtype u 1 1 116',\n",
       " 'select user id 1 1 1 1',\n",
       " 'admin 1 1',\n",
       " 'select user id 1 1 1 1',\n",
       " 'insert',\n",
       " 'select user id 1 1 1 1 1 1',\n",
       " 'select user id 1 1 1 1',\n",
       " '1 utl inaddr get host address select distinct password select distinct password rownum limit sys user limit 8',\n",
       " 'select user id 1 1 1 1',\n",
       " '1 1',\n",
       " '1 1',\n",
       " 'select user id 1 1 1 1',\n",
       " 'select user id 1 union select 1 version 1',\n",
       " 'select user id 1 union select version 1',\n",
       " '1 1',\n",
       " '27 1 1',\n",
       " 'select user id 1 union select 1 version 1',\n",
       " 'select user id 1 union select version 1',\n",
       " '1 load file char 47 101 116 99 47 112 97 115',\n",
       " 'select user id 1 1 1 union select 1 version 1',\n",
       " 'select user id 1 1 1 1 1',\n",
       " 'select user id 1 union select 1 version 1',\n",
       " 'select user id 1 union select 1 1 version 1',\n",
       " 'select user id 1 1 union select null banner v version rownum 1 1',\n",
       " 'select user id 1 1 1 1',\n",
       " 'select user id 1 1 1 1',\n",
       " 'select user id 1 1 1 1',\n",
       " 'select user id 1 1 1 1',\n",
       " '1',\n",
       " 'select user id 1 1 1 1',\n",
       " 'admin 1 1',\n",
       " 'select user id 1 1 union select null banner v version rownum 1 1',\n",
       " 'x27union select',\n",
       " 'print',\n",
       " 'select user id 1 union select version 1',\n",
       " '1 1',\n",
       " '1 pg sleep time',\n",
       " 'select user id 1 1 1 1',\n",
       " 'admin 1 1',\n",
       " '2 1 3',\n",
       " 'select user id 1 1 1 1 1',\n",
       " 'select user id 1 1 union select null version 1',\n",
       " 'admin 1 1',\n",
       " 'not select system user sa waitfor delay 0 0 2',\n",
       " 'select user id 1 union select 1 banner v version rownum 1 1',\n",
       " '0 0',\n",
       " 'select user id 1 union select version 1',\n",
       " 'select user id 1 1 1 1',\n",
       " 'select user id 1 1 1 1',\n",
       " 'select user id 1 union select null version 1',\n",
       " 'select user id 1 1 1 1',\n",
       " 'char 4039 41 2b 40select',\n",
       " 'select user id 1 1 1 1 1',\n",
       " 'admin 1 1',\n",
       " 'declare varchar 200 select 0x73656c6',\n",
       " '0 0',\n",
       " 'select user id 1 1 1 1',\n",
       " 'x x',\n",
       " 'select user id 1 union select 1 version 1',\n",
       " 'sleep 50',\n",
       " 'select user id 1 1 union select null banner v version rownum 1 1',\n",
       " '1 union select 1 2 3 4 5 6 name sysobjects xtype u',\n",
       " 'select user id 1 1 union select version 1',\n",
       " 'select user id 1 1 union select null version 1',\n",
       " 'select user id 1 1 1 1 1',\n",
       " '1 1',\n",
       " 'select user id 1 1 union select 1 banner v version rownum 1 1',\n",
       " '1 utl inaddr get host address select distinct column name select distinct column name rownum limit tab column limit 4',\n",
       " 'select user id 1 union select version 1',\n",
       " '1 user name dbo',\n",
       " 'not substring select version 24 1 1 waitfor delay 0 0 2',\n",
       " 'select user id 1 1 union select 1 version 1',\n",
       " 'select user id 1 1 union select null version 1',\n",
       " 'select user id 1 1 1 1',\n",
       " 'select user id 1 1 1 1',\n",
       " 'select user id 1 1 1 1 1',\n",
       " '1 utl inaddr get host address select distinct username select distinct username rownum limit sys users limit 6',\n",
       " '1 1',\n",
       " 'select user id 1 1 1 1',\n",
       " 'text',\n",
       " '1234 1 0 union select admin 81dc9bdb52d04dc20036dbd8313ed055',\n",
       " 'select user id 1 1 1 1',\n",
       " 'select user id 1 1 1 union select 1 version 1',\n",
       " 'admin 1 1',\n",
       " 'select user id 1 1 1 1 1',\n",
       " '',\n",
       " '1 utl inaddr get host address select distinct username select distinct username rownum limit sys users limit 4',\n",
       " 'select information schema table',\n",
       " 'select user id 1 1 1 1',\n",
       " '1 pg sleep time',\n",
       " 'select user id 1 union select version 1',\n",
       " 'declare q nvarchar 200 select q 0x770061',\n",
       " '1 1',\n",
       " 'select user id 1 1 1 1 1',\n",
       " 'declare q nvarchar 200 select q 0x770061006900740066006f0072002000640065006c00610079002000270030003a0030003a0031003000270000 exec q',\n",
       " 'select user id 1 1 1 1 1',\n",
       " 'select user id 1 1 union select 1 version 1',\n",
       " 'unusual unusual',\n",
       " '1 select version',\n",
       " 'truncate',\n",
       " '',\n",
       " '3 3',\n",
       " 'select user id 1 1 union select 1 banner v version rownum 1 1',\n",
       " 'select user id 1 union select 1 version 1',\n",
       " 'admin 1 1',\n",
       " 'select user id 1 1 union select version 1',\n",
       " '1 benchmark 10000000 md5 1',\n",
       " 'select user id 1 union select 1 version 1',\n",
       " '1 utl inaddr get host address select sys database name dual',\n",
       " '0 0',\n",
       " 'select user id 1 1 1 1 1',\n",
       " 'select user id 1 1 1 1',\n",
       " 'not substring select version 25 1 0 waitfor delay 0 0 2',\n",
       " '1 sleep time',\n",
       " 'select user id 1 1 1 1 1',\n",
       " 'select user id 1 1 union select 1 version 1',\n",
       " 'select user id 1 union select null version 1',\n",
       " 'select user id 1 1 1 1',\n",
       " 'true',\n",
       " 'execute immediate sel ect u er',\n",
       " 'hi x x',\n",
       " 'select user id 1 1 1 1',\n",
       " 'select user id 1 1 1 1',\n",
       " 'admin',\n",
       " 'select user id 1 union select 1 version 1',\n",
       " 'select user id 1 1 1 1',\n",
       " 'select user id 1 1 1 1',\n",
       " 'union select 1 load file etc passwd 1 1 1',\n",
       " 'waitfor delay 0 0 time',\n",
       " 'unusual unusual',\n",
       " 'insert mysql user user host password value name localhost password pass123',\n",
       " 'admin 1 1',\n",
       " 'select user id 1 1 1 1 1 1',\n",
       " 'select user id 1 1 union select 1 version 1',\n",
       " 'like',\n",
       " 'username like char 37',\n",
       " 'pg sleep time',\n",
       " 'select user id 1 1 1 1',\n",
       " '3 3',\n",
       " 'select user id 1 1 1 1',\n",
       " 'select user id 1 1 1 1 1',\n",
       " 'exec sp',\n",
       " 'select user id 1 union select 1 version 1',\n",
       " 'select user id 1 1 1 1',\n",
       " 'select user id 1 1 union select 1 version 1',\n",
       " 'admin 1 1',\n",
       " 'waitfor delay 0 0 10',\n",
       " 'select user id 1 union select null version 1',\n",
       " 'select user id 1 union select 1 version 1',\n",
       " '1 select var temp',\n",
       " 'hi',\n",
       " '1 utl inaddr get host address select distinct column name select distinct column name rownum limit tab column limit 1',\n",
       " 'admin 1 1',\n",
       " 'true',\n",
       " 'select user id 1 1 union select 1 version 1',\n",
       " 'select user id 1 1 1 1',\n",
       " '1 pg sleep time',\n",
       " 'select user id 1 1 1 1',\n",
       " 'sleep time',\n",
       " 'select user id 1 1 1 1',\n",
       " 'admin 1 1',\n",
       " 'select user id 1 union select 1 version 1',\n",
       " 'exec xp regread',\n",
       " 'select user id 1 1 union select 1 version 1',\n",
       " 'select user id 1 1 1 1 1',\n",
       " 'select user id 1 1 1 1 1',\n",
       " 'select user id 1 1 1 1',\n",
       " '1 1 1',\n",
       " '0 0',\n",
       " 'union select user login char',\n",
       " 'select user id 1 union select 1 version 1',\n",
       " 'admin 1 1',\n",
       " '1 select',\n",
       " 'select user id 1 1 1 1',\n",
       " 'x 1 select count tabname',\n",
       " 'select user id 1 union select 1 version 1',\n",
       " 'select user id 1 1 1 1',\n",
       " 'select user id 1 1 union select 1 banner v version rownum 1 1',\n",
       " '1 benchmark 10000000 md5 1',\n",
       " 'procedure',\n",
       " '',\n",
       " '1 utl inaddr get host address select sys login user dual',\n",
       " '1 utl inaddr get host address select distinct username select distinct username rownum limit sys users limit 2',\n",
       " 'desc user',\n",
       " 'select user id 1 1 union select 1 version 1',\n",
       " 'select user id 1 1 1 1 1 1',\n",
       " '',\n",
       " '',\n",
       " 'select user id 1 1 union select 1 version 1',\n",
       " 'select user id 1 union select 1 version 1',\n",
       " 'select user id 1 union select null version 1',\n",
       " 'select user id 1 union select 1 version 1',\n",
       " 'select user id 1 1 1 1',\n",
       " 'admin',\n",
       " 'select user id 1 1 1 1',\n",
       " 'utl http request',\n",
       " '1 utl inaddr get host address select distinct table name select distinct table name rownum limit sys table limit 1',\n",
       " 'select user id 1 union select 1 version 1',\n",
       " 'benchmark 10000000 md5 1',\n",
       " 'select user id 1 union select 1 version 1',\n",
       " 'select user id 1 1 union select 1 version 1',\n",
       " 'select user id 1 1 1 1',\n",
       " '1 uni select',\n",
       " 'select user id 1 union select null version 1',\n",
       " 'select user id 1 1 union select null version 1',\n",
       " 'admin 1 1',\n",
       " 'utl http request http 192 168 1 1',\n",
       " '7659 7659',\n",
       " 'select user id 1 1 1 1',\n",
       " 'select user id 1 union select 1 version 1',\n",
       " '1 utl inaddr get host address select distinct granted role select distinct granted role rownum limit dba role privs grantee sys loginuser limit 6',\n",
       " 'select user id 1 1 1 1',\n",
       " 'true',\n",
       " 'select user id 1 union select 1 version 1',\n",
       " 'select user id 1 union select version 1',\n",
       " 'select user id 1 1 union select 1 version 1',\n",
       " 'true',\n",
       " 'select user id 1 1 1 1',\n",
       " 'select user id 1 1 union select 1 version 1',\n",
       " 'select user id 1 1 1 1',\n",
       " '3 3',\n",
       " '1 utl inaddr get host address select global name global name',\n",
       " 'select user id 1 1 union select null banner v version rownum 1 1',\n",
       " 'select user id 1 1 1 1 1',\n",
       " 'select user id 1 1 union select null version 1',\n",
       " 'select user id 1 1 union select version version 1',\n",
       " 'select user id 1 1 1 1 1',\n",
       " 'uid like',\n",
       " 'select user id 1 1 1 1 1',\n",
       " 'select user id 1 union select 1 version 1',\n",
       " '23 1 1',\n",
       " 'select user id 1 union select 1 version 1',\n",
       " 'select user id 1 1 1 1 1',\n",
       " 'select user id 1 1 1 1',\n",
       " 'select user id 1 1 1 1',\n",
       " 'select user id 1 union select version 1',\n",
       " '0 1 1',\n",
       " 'select user id 1 1 1 1',\n",
       " 'admin 1 1',\n",
       " 'select user id 1 1 1 1 1',\n",
       " 'select user id 1 1 1 1',\n",
       " '1 utl inaddr get host address select distinct password select distinct password rownum limit sys user limit 5',\n",
       " '1 utl inaddr get host address select distinct column name select distinct column name rownum limit tab column limit 7',\n",
       " 'apos',\n",
       " 'sqlvuln',\n",
       " 'select user id 1 1 1 1',\n",
       " 'select user id 1 1 1 1',\n",
       " '',\n",
       " 'hi 1 1',\n",
       " 'select user id 1 union select null banner v version rownum 1 1',\n",
       " 'exec master xp cmdshell ping 172 10 1 255',\n",
       " 'select user id 1 1 1 union select 1 banner v version rownum 1 1',\n",
       " 'select user id 1 union select version 1',\n",
       " 'select information schema table',\n",
       " 'select user id 1 1 1 1',\n",
       " 'select top 1',\n",
       " '1 1',\n",
       " '',\n",
       " '1 1',\n",
       " 'select user id 1 1 union select null version 1',\n",
       " 'select user id 1 union select version 1',\n",
       " '',\n",
       " 'exec sp addlogin name password',\n",
       " 'select user id 1 union select null banner v version rownum 1 1',\n",
       " '0x77616974666f722064656c61792027303a303a31302700 exec',\n",
       " 'select user id 1 1 1 1',\n",
       " 'select user id 1 1 union select 1 version 1',\n",
       " 'group userid 1 1',\n",
       " 'select user id 1 1 union select null version 1',\n",
       " 'select user id 1 1 1 1 1',\n",
       " 'select user id 1 1 1 1 1',\n",
       " '1 1',\n",
       " 'select user id 1 union select null version 1',\n",
       " 'select user id 1 1 1 1',\n",
       " '',\n",
       " 'declare varchar 22 select',\n",
       " 'select user id 1 union select 1 version 1',\n",
       " 'select user id 1 union select null version 1',\n",
       " 'select user id 1 1 union select version version 1',\n",
       " 'variable',\n",
       " 'exec master xp cmdshell',\n",
       " 'select user id 1 1 1 1 1',\n",
       " 'select user id 1 union select 1 version 1',\n",
       " 'select user id 1 union select 1a version 1',\n",
       " 'select user id 1 1 union select 1 version 1',\n",
       " 'select user id 1 1 union select 1 version 1',\n",
       " '1 select var temp',\n",
       " 'select user id 1 union select 1 banner v version rownum 1 1',\n",
       " 'select user id 1 1 1 1 1',\n",
       " 'select user id 1 1 1 1',\n",
       " 'x x',\n",
       " '',\n",
       " '1 1',\n",
       " 'select user id 11 1 union select 1 version 1',\n",
       " 'x x',\n",
       " 'select user id 1 1 union select 1 version 1',\n",
       " 'select user id 1 1 union select 1 version 1',\n",
       " '1 utl inaddr get host address select distinct table name select distinct table name rownum limit sys table limit 4',\n",
       " 'srvrolemember sysadmin 0 waitfor delay 0 0 2',\n",
       " 'select user id 1 1 1 1',\n",
       " 'select user id 1 union select version 1',\n",
       " 'select user id 1 union select 1 version 1',\n",
       " 'select user id 1 1 1 1',\n",
       " 'select user id 1 1 union select version version 1',\n",
       " '1 1',\n",
       " '',\n",
       " 'x x',\n",
       " 'select user id 1 1 1 1 1',\n",
       " 'select user id 1 union select 1 version 1',\n",
       " 'password',\n",
       " 'select user id 1 1 1 1',\n",
       " 'select user id 1 1 1 1',\n",
       " 'select user id 1 1 union select null version 1',\n",
       " '1 utl inaddr get host address select distinct granted role select distinct granted role rownum limit dba role privs grantee sys loginuser limit 3',\n",
       " '1 1',\n",
       " 'admin 1 1',\n",
       " 'select user id 1 1 1 1 1',\n",
       " 'select user id 1 union select 1 version 1',\n",
       " 'select user id 1 union select null version 1',\n",
       " 'select user id 1 1 1 1',\n",
       " 'union select user login char 114 111 111 116',\n",
       " 'select user id 1 1 union select 1 version 1',\n",
       " '1 1',\n",
       " '1 utl inaddr get host address select distinct granted role select distinct granted role rownum limit dba role privs grantee sys loginuser limit 5',\n",
       " 'pg sleep time',\n",
       " '3 3',\n",
       " 'select user id 1 1 union select 1 version 1',\n",
       " 'select user id 1 1 1 1',\n",
       " 'union select information schema table',\n",
       " 'select user id 1 1 1 1',\n",
       " 'benchmark 10000000 md5 1',\n",
       " '1 utl inaddr get host address select count distinct column name sys tab column',\n",
       " '1 utl inaddr get host address select distinct table name select distinct table name rownum limit sys table limit 7',\n",
       " '',\n",
       " 'delete',\n",
       " 'waitfor delay 0 0 time',\n",
       " '1 1',\n",
       " '1 non existant table 1',\n",
       " 'select user id 1 1 1 1',\n",
       " 'select user id 1 union select 1 version 1',\n",
       " 'declare varchar 200 select 0x77616974',\n",
       " 'x userid null',\n",
       " 'select user id 1 1 1 1',\n",
       " 'select user id 1 1 union select 1 version 1',\n",
       " 'select user id 1 union select version 1',\n",
       " 'select user id 1 union select 1 version 1',\n",
       " '1 utl inaddr get host address select host name v instance',\n",
       " '1 utl inaddr get host address select distinct column name select distinct column name rownum limit tab column limit 2',\n",
       " 'select user id 1 1 1 1',\n",
       " 'select user id 1 1 1 1',\n",
       " 'select user id 1 1 1 1',\n",
       " 'union select',\n",
       " 'select user id 1 1 1 1 1',\n",
       " 'select user id 1 1 1 1 1',\n",
       " 'select user id 1 1 union select 1 banner v version rownum 1 1',\n",
       " 'x full name like bob',\n",
       " 'x member email null',\n",
       " '2 1',\n",
       " 'select user id 1 1 1 1 1',\n",
       " 'pg sleep time',\n",
       " '',\n",
       " 'select user id 1 union select 1 version 1',\n",
       " 'select user id 1 1 1 1',\n",
       " 'select user id 1 1 1 1',\n",
       " 'sleep time',\n",
       " 'sleep 50',\n",
       " 'select user id 1 1 1 union select 1 banner v version rownum 1 1',\n",
       " 'select user id 1 1 1 1',\n",
       " 'select user id 1 1 1 1',\n",
       " 'sleep time',\n",
       " 'select user id 1 1 1 1',\n",
       " 'select user id 1 1 union select 1 version 1',\n",
       " 'select user id 1 union select version 1',\n",
       " 'select user id 1 union select version 1',\n",
       " 'select user id 1 union select null version 1',\n",
       " '2 1',\n",
       " 'exec sel ect u er',\n",
       " 'anything x x',\n",
       " 'select user id 1 union select 1 version 1',\n",
       " 'select user id 1 union select 1 banner v version rownum 1 1',\n",
       " 'select user id 1 union select null version 1',\n",
       " '',\n",
       " '3 3',\n",
       " 'select user id 1 union select 1 version 1',\n",
       " 'select user id 1 1 union select 1 banner v version rownum 1 1',\n",
       " 'admin 1 1',\n",
       " 'uni sel ect',\n",
       " '',\n",
       " 'waitfor delay 0 0 time',\n",
       " 'select user id 1 1 1 1',\n",
       " '1 waitfor delay 0 0 10',\n",
       " 'bfilename',\n",
       " 'admin 1 1',\n",
       " 'uef',\n",
       " 'password',\n",
       " '1 sleep time',\n",
       " '1 utl inaddr get host address select distinct table name select distinct table name rownum limit sys table limit 6',\n",
       " 'select user id 1 union select version 1',\n",
       " 'select user id 1 1 union select 1 version 1',\n",
       " '1 1 select count tablenames',\n",
       " 'sleep time',\n",
       " '1 utl inaddr get host address select distinct granted role select distinct granted role rownum limit dba role privs grantee sys loginuser limit 8',\n",
       " 'select user id 1 1 1 1 1 1',\n",
       " '6',\n",
       " '1',\n",
       " '1 load file char 110 46 101 120 116 char 39 39 1 0',\n",
       " 'select user id 1 1 1 1',\n",
       " 'select user id 1 1 1 1 1',\n",
       " 'select user id 1 1 1 union select 1 version 1',\n",
       " 'select user id 1 1 1 1',\n",
       " '1 1',\n",
       " '1 utl inaddr get host address select distinct password select distinct password rownum limit sys user limit 7',\n",
       " 'select user id 1 1 1 1',\n",
       " 'select user id 1 1 union select 1 banner v version rownum 1 1',\n",
       " 'whatever whatever',\n",
       " 'declare varchar 200 select 0x73656c65637420404076657273696f6e exec',\n",
       " 'select user id 1 1 1 1',\n",
       " '',\n",
       " '1 utl inaddr get host address select count distinct table name sys table',\n",
       " 'select user id 1 union select 1 version 1',\n",
       " 'admin 1 1',\n",
       " 'select user id 1 1 union select version 1',\n",
       " 'select user id 1 1 1 1',\n",
       " '',\n",
       " 'select user id 1 1 1 1',\n",
       " '1 1',\n",
       " 'drop table temp',\n",
       " '1 utl inaddr get host address select distinct password select distinct password rownum limit sys user limit 2',\n",
       " 'benchmark 10000000 md5 1',\n",
       " 'x x',\n",
       " 'select user id 1 1 1 1',\n",
       " 'select user id 1 union select 1 version 1',\n",
       " 'something like',\n",
       " 'not select serverproperty isintegratedsecurityonly 0 waitfor delay 0 0 2',\n",
       " '1 utl inaddr get host address select distinct password select distinct password rownum limit sys user limit 4',\n",
       " 'select user id 1 1 1 1',\n",
       " 'exec master xp cmdshell ping 10 10 1 2',\n",
       " 'admin 1 1',\n",
       " 'not select serverproperty isintegratedsecurityonly 1 waitfor delay 0 0 2',\n",
       " '1 utl inaddr get host address select distinct table name select distinct table name rownum limit sys table limit 2',\n",
       " 'select user id 1 union select version version 1',\n",
       " 'select user id 1 1 union select null version 1',\n",
       " 'waitfor delay 0 0 time',\n",
       " 'x userid null',\n",
       " 'select user id 1 1 1 1 1',\n",
       " 'select user id 1 union select null version 1',\n",
       " 'select user id 1 1 1 1',\n",
       " '1 1',\n",
       " 'select user id 1 union select 1a banner v version rownum 1 1',\n",
       " 'admin 1 1',\n",
       " 'select user id 1 1 union select 1 version 1',\n",
       " '1 load file char 110 46 101 120 11',\n",
       " 'exec',\n",
       " 'select user id 1 1 1 1',\n",
       " 'select user id 1 1 union select 1 version 1',\n",
       " '1 1',\n",
       " 'select user id 1 1 1 1 1',\n",
       " 'select user id 1 union select version version 1',\n",
       " 'x email null',\n",
       " 'select user id 1 1 union select 1 version 1',\n",
       " '',\n",
       " 'select user id 1 union select null banner v version rownum 1 1',\n",
       " 'select user id 11 1 union select 1 banner v version rownum 1 1',\n",
       " 'select user id 1 1 union select 1 banner v version rownum 1 1',\n",
       " 'update',\n",
       " '1',\n",
       " 'select user id 1 1 union select 1 version 1',\n",
       " 'pg sleep time',\n",
       " '6',\n",
       " 'select user id 1 union select 1 version 1',\n",
       " 'exists',\n",
       " '',\n",
       " 'text n text',\n",
       " 'select user id 1 union select null version 1',\n",
       " 'select user id 1 union select version 1',\n",
       " 'select user id 1 1 1 1',\n",
       " 'select user id 1 1 union select 1 version 1',\n",
       " '0 0',\n",
       " 'select user id 1 1 1 1 1 1',\n",
       " 'select user id 1 1 1 1 1',\n",
       " 'select user id 1 1 union select version version 1',\n",
       " 'select user id 1 1 union select version 1',\n",
       " 'password 1',\n",
       " 'select user id 1 union select 1 version 1',\n",
       " 'select user id 1 1 1 1',\n",
       " 'select user id 1 union select 1 version 1',\n",
       " 'union select null select version',\n",
       " 'select user id 1 1 1 1',\n",
       " 'select user id 1 union select 1 version 1',\n",
       " 'select user id 1 union select null version 1',\n",
       " 'select user id 1 union select 1 version 1',\n",
       " 'select user id 1 union select 1 version 1',\n",
       " 'select user id 1 1 union select 1 version 1',\n",
       " 'select user id 1 union select null version 1',\n",
       " 'select user id 1 union select null version 1',\n",
       " 'select user id 1 1 1 1',\n",
       " 'select user id 1 1 union select 1 version 1',\n",
       " '1 utl inaddr get host address select banner v version rownum 1',\n",
       " 'select user id 1 1 1 1',\n",
       " '1 utl inaddr get host address select distinct column name select distinct column name rownum limit tab column limit 3',\n",
       " 'select user id 1 union select 1 version 1',\n",
       " 'select user id 1 1 1 1',\n",
       " 'select user id 1 union select 1 version 1',\n",
       " 'select user id 1 1 1 1',\n",
       " 'union select',\n",
       " 'asc',\n",
       " 'myappadmin adduser admin newpass',\n",
       " 'exec sp addsrvrolemember name sysadmin',\n",
       " 'select user id 1 1 union select 1 version 1',\n",
       " 'true',\n",
       " 'select user id 1 1 union select 1 banner v version rownum 1 1',\n",
       " '1 utl inaddr get host address select distinct password select distinct password rownum limit sys user limit 3',\n",
       " 'userid like',\n",
       " 'union select null null select version',\n",
       " '',\n",
       " 'select user id 1 1 1 1',\n",
       " 'admin',\n",
       " 'select user id 1 union select 1 version 1',\n",
       " 'waitfor delay 0 0 time',\n",
       " 'select user id 1 union select version 1',\n",
       " 'select user id 1 1 1 1',\n",
       " 'admin 1 1',\n",
       " 'union select version',\n",
       " '',\n",
       " 'sleep time',\n",
       " 'union select null null null null null select version',\n",
       " 'select user id 1 union select 1 version 1',\n",
       " 'select user id 1 union select version 1',\n",
       " 'select user id 1 1 1 1',\n",
       " 'select user id 1 1 1 1',\n",
       " 'select user id 1 1 union select null version 1',\n",
       " 'select user id 1 1 1 1',\n",
       " 'hi',\n",
       " 'select name syscolumns id sele',\n",
       " 'select user id 1 1 1 1 1',\n",
       " 'not substring select version 25 1 5 waitfor delay 0 0 2',\n",
       " 'select user id 1 union select 1 version 1',\n",
       " '2 1 3',\n",
       " 'union select version',\n",
       " '1 utl inaddr get host address select distinct column name select distinct column name rownum limit tab column limit 8',\n",
       " 'exec master xp cmdshell nslookup www google com',\n",
       " 'isnull 1 0',\n",
       " 'select user id 1 union select 1 version 1',\n",
       " 'select user id 1 1 1 1',\n",
       " 'select user id 1 1 1 1',\n",
       " 'declare q nvarchar 200 0x730065006c00650063',\n",
       " '',\n",
       " 'union select version',\n",
       " 'select user id 1 1 1 union select 1 version 1',\n",
       " 'admin 1 1',\n",
       " 'exists',\n",
       " 'select user id 1 union select 1 version 1',\n",
       " 'declare varchar 8000 select 0x73656c',\n",
       " 'select user id 1 union select version 1',\n",
       " 'select user id 1 union select 1 banner v version rownum 1 1',\n",
       " 'select user id 1 1 1 1',\n",
       " 'select user id 1 union select 1 1a version 1',\n",
       " 'begin declare var varchar 8000 set var select var var login password user login',\n",
       " 'union select null null null null select version',\n",
       " 'hi 1 1',\n",
       " 'union select',\n",
       " 'select user id 1 1 1 1',\n",
       " 'select user id 1 1 union select version 1',\n",
       " 'select user id 1 1 1 1',\n",
       " 'select user id 1 1 1 1 1',\n",
       " 'desc',\n",
       " 'select user id 1 1 1 1 1',\n",
       " 'anything x x',\n",
       " 'select user id 1 1 1 union select 1 version 1',\n",
       " 'select user id 1 1 1 1',\n",
       " '0x770061006900740066006f0072002000640065006c00',\n",
       " 'select user id 1 union select version version 1',\n",
       " 'select user id 1 union select 1 version 1',\n",
       " 'select user id 1 1 1 1',\n",
       " 'select user id 1 1 1 1',\n",
       " 'isnull 1 0',\n",
       " 'insert user login password level value char 0x70 char 0x65 char 0x74 char 0x65 char 0x72 char 0x70 char 0x65 char 0x74 char 0x65 char 0x72 char 0x64',\n",
       " 'select user id 1 1 1 1 1',\n",
       " 'select user id 1 1 1 1',\n",
       " 'admin 1 1',\n",
       " 'admin 1 1',\n",
       " 'user like',\n",
       " 'admin 1 1',\n",
       " 'sleep time',\n",
       " 'select user id 1 1 1 1',\n",
       " 'select user id 1 1 1 1',\n",
       " 'select user id 1 1 1 1',\n",
       " '',\n",
       " 'select user id 1 union select version 1',\n",
       " 'admin 1 1',\n",
       " '1 utl inaddr get host address select distinct table name select distinct table name rownum limit sys table limit 3',\n",
       " 'select user id 1 1 1 1',\n",
       " 'select user id 1 1 1 1',\n",
       " 'x 1 1 x',\n",
       " '1 utl inaddr get host address select distinct table name select distinct table name rownum limit sys table limit 8',\n",
       " 'select user id 1 union select 1 version 1',\n",
       " 'x x',\n",
       " '',\n",
       " 'select user id 1 1 union select version version 1',\n",
       " 'select user id 1 union select 1 version 1',\n",
       " 'select user id 1 union select null version 1',\n",
       " 'select user id 1 union select version 1',\n",
       " 'select user id 1 1 union select null version 1',\n",
       " 'select user id 1 union select null version 1',\n",
       " 'select user id 1 1 union select null version 1',\n",
       " 'sleep time',\n",
       " '1 1',\n",
       " '',\n",
       " 'select user id 1 1 1 1 1 1',\n",
       " 'group userid 1 1',\n",
       " 'select user id 1 1 1 union select 1 version 1',\n",
       " 'select user id 1 1 union select 1 version 1',\n",
       " '0 0',\n",
       " '0 0',\n",
       " 'pg sleep time',\n",
       " '1 1',\n",
       " 'select user id 1 1 1 union select version 1',\n",
       " 'select user id 1 1 1 union select 1 version 1',\n",
       " 'select user id 1 1 union select 1 version 1',\n",
       " '1 utl inaddr get host address select count distinct username sys users',\n",
       " 'sqlvuln',\n",
       " 'select user id 1 1 1 1',\n",
       " 'select user id 1 1 union select version 1',\n",
       " '0x730065006c0065006300740020004000400076006500',\n",
       " 'select user id 1 union select 1 1 version 1',\n",
       " 'select user id 1 union select version version 1',\n",
       " 'declare varchar 8000 select 0x73656c65637420404076657273696f6e',\n",
       " 'select user id 1 1 1 1',\n",
       " '',\n",
       " 'select user id 1 1 1 1',\n",
       " '1 utl inaddr get host address select distinct column name select distinct column name rownum limit tab column limit 6',\n",
       " 'select user id 1 union select 1 version 1',\n",
       " 'username like char 37',\n",
       " 'select user id 1 1 union select version version 1',\n",
       " 'something thing',\n",
       " 'name',\n",
       " '1 select version',\n",
       " 'declare q nvarchar 4000 select q',\n",
       " 'select user id 1 union select 1 version 1',\n",
       " '1 utl inaddr get host address select distinct granted role select distinct granted role rownum limit dba role privs grantee sys loginuser limit 2',\n",
       " 'select user id 1 1 1 1',\n",
       " 'select user id 1 union select null version 1',\n",
       " 'select user id 1 1 1 1 1',\n",
       " '1 utl inaddr get host address select distinct password select distinct password rownum limit sys user limit 1',\n",
       " 'select user id 1 1 union select version version 1',\n",
       " 'select user id 1 union select 1a banner v version rownum 1 1',\n",
       " 'select user id 1 1 union select 1 version 1',\n",
       " 'admin 1 1',\n",
       " '',\n",
       " 'select user id 1 1 1 1',\n",
       " '1 1',\n",
       " 'declare q nvarchar 200 0x730065006c00650063007400200040004000760065007200730069006f006e00 exec q',\n",
       " 'admin',\n",
       " 'select user id 1 1 1 1 1',\n",
       " 'select user id 1 1 union select 1 version 1',\n",
       " 'select user id 1 1 1 1 1',\n",
       " 'begin declare var varchar 8000 set var',\n",
       " 'select user id 1 1 1 1',\n",
       " 'pg sleep time',\n",
       " 'print variable',\n",
       " 'select user id 1 1 1 1 1',\n",
       " '',\n",
       " 'x x',\n",
       " 'select user id 1 1 1 1 1',\n",
       " '1 1',\n",
       " 'select user id 1 union select 1 version 1',\n",
       " 'select user id 1 1 1 1',\n",
       " '',\n",
       " '2a 28 7c 28mail 3d 2a 29 29',\n",
       " 'select user id 1 1 1 1',\n",
       " '1 1',\n",
       " 'x 1 select count tabname',\n",
       " '1 utl inaddr get host address select distinct username select distinct username rownum limit sys users limit 3',\n",
       " 'select user id 1 union select 1 version 1',\n",
       " 'admin 1 1',\n",
       " '',\n",
       " 'select user id 1 1 1 union select null version 1',\n",
       " 'select user id 1 union select 1 banner v version rownum 1 1',\n",
       " 'x x',\n",
       " 'union select',\n",
       " '23 1 1',\n",
       " 'select user id 1 1 1 1 1',\n",
       " 'select user id 1 1 1 union select 1 version 1',\n",
       " 'select user id 1 1 1 1',\n",
       " 'select user id 1 1 1 1',\n",
       " 'select user id 1 1 1 1',\n",
       " 'username like',\n",
       " 'elt 3 5 bin 15 ord 10 hex char 45',\n",
       " 'uname like',\n",
       " 'declare varchar 200 select 0x77616974666f722064656c61792027303a303a31302700 exec',\n",
       " '1',\n",
       " 'select user id 1 union select null version 1',\n",
       " '1 utl inaddr get host address select distinct username select distinct username rownum limit sys users limit 1',\n",
       " 'select user id 1 union select version 1',\n",
       " 'select user id 1 1 1 1',\n",
       " '1 utl inaddr get host address select distinct granted role select distinct granted role rownum limit dba role privs grantee sys loginuser limit 1',\n",
       " 'select user id 1 1 1 1',\n",
       " 'admin 1 1',\n",
       " '1 sleep time',\n",
       " 'select user id 1 1 1 1',\n",
       " 'sqlattempt2',\n",
       " 'select user id 1 union select null version 1',\n",
       " 'x email null',\n",
       " 'select user id 1 1 union select 1 banner v version rownum 1 1',\n",
       " '1 utl inaddr get host address select distinct username select distinct username rownum limit sys users limit 8',\n",
       " 'select user id 1 1 union select version version 1',\n",
       " '1234 1 0 union select admin 81dc9bdb52d04dc20036dbd8313ed055',\n",
       " 'select user id 1 union select 1 version 1',\n",
       " 'var select var var temp end',\n",
       " 'select user id 1 union select null version 1',\n",
       " '',\n",
       " 'select user id 1 1 1 1',\n",
       " 'select user id 1 1 1 1',\n",
       " 'select user id 1 union select version 1',\n",
       " '',\n",
       " 'waitfor delay 0 0 time',\n",
       " '',\n",
       " 'select user id 1 1 1 1',\n",
       " 'select user id 1 1 1 1',\n",
       " '1 utl inaddr get host address select distinct granted role select distinct granted role rownum limit dba role privs grantee sys loginuser limit 7',\n",
       " 'select user id 1 union select 1 version 1',\n",
       " 'union select',\n",
       " 'select user id 1 1 1 1',\n",
       " 'select user id 1 1 1 1 1',\n",
       " 'select user id 1 1 1 union select 1 version 1',\n",
       " 'select user id 1 union select 1 version 1',\n",
       " 'select user id 1 1 1 1',\n",
       " 'select user id 1 1 1 1 1',\n",
       " 'select user id 1 union select 1 version 1',\n",
       " 'exec master xp cmdshell nslookup www googl',\n",
       " 'benchmark 10000000 md5 1',\n",
       " 'union select',\n",
       " 'select user id 1 1 1 union select 1 version 1',\n",
       " 'select user id 1 1 1 1',\n",
       " '',\n",
       " 'x member email null',\n",
       " 'select',\n",
       " '1 1',\n",
       " '',\n",
       " 'select user id 1 union select 1 version 1',\n",
       " 'select user id 1 1 union select 1 version 1',\n",
       " 'admin 1 1',\n",
       " 'select user id 1 union select 1 version 1',\n",
       " 'select user id 1 union select 1 banner v version rownum 1 1',\n",
       " '1 utl inaddr get host address select distinct username select distinct username rownum limit sys users limit 5',\n",
       " '1 utl inaddr get host address select count distinct granted role dba role privs grantee sys login user',\n",
       " 'select user id 1 1 union select null version 1',\n",
       " '1 utl inaddr get host address select distinct password select distinct password rownum limit sys user limit 6',\n",
       " 'select user id 1 1 1 1',\n",
       " 'union select null null null select version',\n",
       " 'x x',\n",
       " 'select user id 1 union select version 1',\n",
       " '1 1',\n",
       " 'select user id 1 1 1 1',\n",
       " '3 3',\n",
       " '1 benchmark 10000000 md5 1',\n",
       " '1 1',\n",
       " 'select user id 1 union select 1 version 1',\n",
       " 'select user id 1 1 union select 1 version 1',\n",
       " 'select user id 1 union select 1 version 1',\n",
       " 'select user id 1 1 1 1 1',\n",
       " 'admin 1 1',\n",
       " 'text',\n",
       " '',\n",
       " 'select user id 1 1 union select version 1',\n",
       " 'benchmark 10000000 md5 1',\n",
       " 'exec xp',\n",
       " 'select user id 1 union select 1 version 1',\n",
       " 'select user id 1 1 1 1 1',\n",
       " 'hi',\n",
       " '',\n",
       " 'sqlattempt1',\n",
       " 'admin 1 1',\n",
       " 'select user id 1 1 1 1',\n",
       " '1 1 1',\n",
       " 'select user id 1 1 union select 1 banner v version rownum 1 1',\n",
       " 'variable',\n",
       " '2a 7c',\n",
       " 'select user id 1 union select 1 version 1',\n",
       " 'mail',\n",
       " 'not substring select version 25 1 8 waitfor delay 0 0 2',\n",
       " 'select user id 1 1 union select 1 version 1',\n",
       " 'select user id 1 1 1 union select version version 1',\n",
       " '1 utl inaddr get host address select count distinct password sys user',\n",
       " 'select user id 1 1 union select 1 version 1',\n",
       " 'order',\n",
       " 'select user id 1 1 1 1',\n",
       " 'username not null username',\n",
       " 'admin 1 1',\n",
       " '',\n",
       " 'select user id 1 1 union select 1 version 1',\n",
       " 'select user id 1 union select version version 1',\n",
       " 'select user id 1 1 1 1 1',\n",
       " 'select user id 1 union select 1 version 1',\n",
       " '',\n",
       " '1 0 union',\n",
       " '',\n",
       " '0x770061006900740066006f0072002000640065006c00610079002000270030003a0030003a',\n",
       " 'select user id 1 union select 1 version 1',\n",
       " 'select user id 1 1 1 union select 1 banner v version rownum 1 1',\n",
       " 'sqlvuln',\n",
       " 'text n text',\n",
       " '1 1',\n",
       " '0x730065006c00650063007400200040004000760065007200730069006f006e00 exec q',\n",
       " 'select user id 1 1 union select 1 version 1',\n",
       " 'select user id 1 union select version 1',\n",
       " 'select user id 1 1 1 1 1 1',\n",
       " 'select user id 1 1 1 1',\n",
       " 'select user id 1 union select 1 version 1',\n",
       " 'select user id 1 1 1 1',\n",
       " '1 exec sp exec xp',\n",
       " 'select user id 1 1 1 union select 1 banner v version rownum 1 1',\n",
       " '3 3',\n",
       " 'admin',\n",
       " 'select top 1',\n",
       " 'select user id 1 1 1 1 1',\n",
       " '',\n",
       " 'benchmark 10000000 md5 1',\n",
       " 'select user id 1 1 1 1',\n",
       " '7659 7659',\n",
       " 'select user id 1 1 union select version version 1',\n",
       " 'select user id 1 1 1 1 1',\n",
       " '1 1 1',\n",
       " '',\n",
       " 'replace',\n",
       " 'select user id 1 union select 1 version 1',\n",
       " 'select user id 1 1 1 1',\n",
       " 'select user id 1 union select null version 1',\n",
       " 'select user id 1 union select 1a banner v version rownum 1 1',\n",
       " '',\n",
       " 'objectclass',\n",
       " '1 utl inaddr get host address select distinct granted role select distinct granted role rownum limit dba role privs grantee sys loginuser limit 4',\n",
       " 'limit',\n",
       " '1 1',\n",
       " 'select user id 1 1 1 1',\n",
       " '',\n",
       " '1 utl inaddr get host address select distinct username select distinct username rownum limit sys users limit 7',\n",
       " 'create user name identified pass123',\n",
       " 'select user id 1 union select null version 1',\n",
       " 'select user id 1 1 union select version 1',\n",
       " '',\n",
       " 'select user id 1 1 1 1 1',\n",
       " '',\n",
       " 'select user id 1 1 1 1 1',\n",
       " 'x full name like bob',\n",
       " 'select user id 1 union select version 1',\n",
       " 'select user id 1 1 1 1',\n",
       " 'select user id 1 union select version 1',\n",
       " 'benchmark 10000000 md5 1',\n",
       " 'waitfor delay 0 0 time',\n",
       " 'sleep time',\n",
       " 'wapiti',\n",
       " 'sleep time',\n",
       " 'sleep time',\n",
       " 'pg sleep time',\n",
       " 'sleep time',\n",
       " 'sleep time',\n",
       " 'pg sleep time',\n",
       " 'pg sleep time',\n",
       " 'sleep time',\n",
       " 'waitfor delay 0 0 time',\n",
       " '1 8156 select count generate series 1 5000000',\n",
       " '1 clye 7842 7842 char 109 char 79 char 70 char 90 regexp substring repeat right char 5012 0 5000000000 null',\n",
       " '4860 azyx 6901 6901 union select 6901 6901 6901 6901 6901',\n",
       " '1 union select null null null null null',\n",
       " 'select benchmark 5000000 md5 0x4c4d6142 6866 6866',\n",
       " '1 boed 6787 6787',\n",
       " '1 vdbf 7969 7969 extractvalue 1297 concat 0x5c 0x7171706a71 select elt 1297 1297 1 0x717a767a71',\n",
       " '1 4281 4281',\n",
       " '1 8024 3560',\n",
       " '1 5452 6050 6050 ciyc like ciyc',\n",
       " '1 8148 like abcdefg upper hex randomblob 500000000 2',\n",
       " '1 select case 9443 9443 sleep 5 else 9443 select 9443 information schema character set end',\n",
       " '1 select rawn dual 4988 4988 char 68 char 69 char 97 char 85 regexp substring repeat right char 5389 0 5000000000 null',\n",
       " '4925 union select 5686 5686 5686 5686 5686 5686 5686',\n",
       " '1 dnhd 2657 2657 4240 select 4240 pg sleep 5',\n",
       " '9534 3038 3038',\n",
       " '1 6941 6941 6537 dbms pipe receive message chr 76 chr 116 chr 117 chr 65 5',\n",
       " 'select case 7978 6009 7978 else 1 select 0 end',\n",
       " '1212 make set 7588 2306 2306',\n",
       " '1 5466 5466 2388 benchmark 5000000 md5 0x6d457153',\n",
       " '3794 union select 2485 2485 2485 2485 2485',\n",
       " '1 5286 select count user t1 user t2 user t3 user t4 user t5 gmil gmil',\n",
       " '1 8635 select count generate series 1 5000000',\n",
       " '6400 union select 4650 4650 4650',\n",
       " '1 select rttq dual 7368 7368 updatexml 1808 concat 0x2e 0x7171706a71 select elt 1808 1808 1 0x717a767a71 8666',\n",
       " '1 ztkr 1532 1532',\n",
       " '1 9842 9842 union select null null null null null null null null',\n",
       " '1 exp select select concat 0x7171706a71 select elt 6270 6270 1 0x717a767a71 0x78 x fbsi like fbsi',\n",
       " '1 char 68 char 69 char 97 char 85 regexp substring repeat right char 5389 0 5000000000 null uwep uwep',\n",
       " '4291 5023 ctxsys drithsx sn 5023 chr 113 chr 113 chr 112 chr 106 chr 113 select case 5023 5023 1 else 0 end dual chr 113 chr 122 chr 118 chr 122 chr 113 xyhi xyhi',\n",
       " '1 boolean mode 3707 select count sysibm systables t1 sysibm systables t2 sysibm systables t3',\n",
       " '1 1022 select count user t1 user t2 user t3 user t4 user t5',\n",
       " 'call regexp substring repeat left crypt key char 65 char 69 char 83 null 0 500000000 null pawh pawh',\n",
       " '1589 1589 1',\n",
       " 'select count generate series 1 5000000 7240 7240',\n",
       " '1 3715 char 113 char 113 char 112 char 106 char 113 select case 3715 3715 char 49 else char 48 end char 113 char 122 char 118 char 122 char 113 9548 9548',\n",
       " '1 6240 qqpjq select case 6240 6240 1 else 0 end rdb database qzvzq 6406 6406',\n",
       " '5021 select yadq 4285 4285 order 1',\n",
       " '1 4386 utl inaddr get host address chr 113 chr 113 chr 112 chr 106 chr 113 select case 4386 4386 1 else 0 end dual chr 113 chr 122 chr 118 chr 122 chr 113',\n",
       " '1 6793 select 6793 pg sleep 5 baia baia',\n",
       " '1 3824 benchmark 5000000 md5 0x76555642 jozh jozh',\n",
       " '9508 union select 9950 9950 9950 9950 9950 9950 9950',\n",
       " '1 8514 benchmark 5000000 md5 0x544d5a4c',\n",
       " '1064 make set 6439 2937 2937 qojd qojd',\n",
       " '1 rbpx 1264 1264',\n",
       " '1 exp select select concat 0x7171706a71 select elt 6270 6270 1 0x717a767a71 0x78 x',\n",
       " '8284 6171 select 8284 else drop function mbih',\n",
       " '1 sleep 5',\n",
       " '7868 9323 9323',\n",
       " '1 ekjw 5477 5477 union select null null null null null',\n",
       " '1 2462 2462 2716 select count sysusers sys1 sysusers sys2 sysusers sys3 sysusers sys4 sysusers sys5 sysusers sys6 sysusers sys7',\n",
       " 'select like abcdefg upper hex randomblob 500000000 2 mfib mfib',\n",
       " '1 4240 select 4240 pg sleep 5',\n",
       " '1 4595 4595',\n",
       " '1 oknw 8777 8777',\n",
       " '1 6501 6501',\n",
       " '1 char 111 char 77 char 121 char 88 regexp substring repeat left crypt key char 65 char 69 char 83 null 0 500000000 null 8929 8929',\n",
       " '7999 8422 1336',\n",
       " '5742 1314 1314 5903 qqpjq select case 5903 5903 1 else 0 end rdb database qzvzq',\n",
       " '1 potk 5040 5040 elt 5873 5873 sleep 5',\n",
       " '4605 union select 8542 8542 8542 8542 8542 8542 8542 8542',\n",
       " 'select count sysibm systables t1 sysibm systables t2 sysibm systables t3 njnr njnr',\n",
       " 'select case 6558 4327 1 else null end',\n",
       " '7535 2724 char 113 char 113 char 112 char 106 char 113 select case 2724 2724 char 49 else char 48 end char 113 char 122 char 118 char 122 char 113',\n",
       " 'end rqay like rqay',\n",
       " '2312 union select 5282 5282 5282 5282 5282 5282 5282 5282',\n",
       " '1 8594 select 8594 pg sleep 5',\n",
       " 'select case 8993 8846 8993 else 8993 select 8993 mysql db end',\n",
       " 'select count sysibm systables t1 sysibm systables t2 sysibm systables t3',\n",
       " 'select pg sleep 5',\n",
       " 'call regexp substring repeat right char 3702 0 500000000 null 4142 4142',\n",
       " '8153 qhlb 4948 4948 union select 4948 4948 4948 4948 4948 4948',\n",
       " '7319 4493 utl inaddr get host address chr 113 chr 113 chr 112 chr 106 chr 113 select case 4493 4493 1 else 0 end dual chr 113 chr 122 chr 118 chr 122 chr 113',\n",
       " '1 bedq 8781 8781 8466 benchmark 5000000 md5 0x694a4745',\n",
       " '1 2006 2006',\n",
       " '5139 union select 3373 3373 3373 3373 3373 3373 3373 3373',\n",
       " '1 4411 select count sysusers sys1 sysusers sys2 sysusers sys3 sysusers sys4 sysusers sys5 sysusers sys6 sysusers sys7 zcyc',\n",
       " '1 rvch 1863 1863 8384 like abcdefg upper hex randomblob 500000000 2',\n",
       " '1 8514 select count domain domain t1 domain column t2 domain table t3 loao',\n",
       " '9446 wmrq 3705 3705 union select 3705',\n",
       " 'iif 7889 5114 1 1 0',\n",
       " 'select dbms pipe receive message chr 66 chr 67 chr 79 chr 101 5 dual ztmd ztmd',\n",
       " '1 union select null null null null null null null null',\n",
       " '1 char 109 char 79 char 70 char 90 regexp substring repeat right char 5012 0 5000000000 null',\n",
       " '1 elt 4249 4249 7259',\n",
       " '1 4867 4867 rlike select case 7689 7689 1 else 0x28 end',\n",
       " '8858 5680 select 8858 else drop function pyuo',\n",
       " '1 procedure analyse extractvalue 9255 concat 0x5c benchmark 5000000 md5 0x52515a50 1 1748 1748',\n",
       " '1 klie 2840 2840 8514 benchmark 5000000 md5 0x544d5a4c',\n",
       " '3859 3440 cast chr 113 chr 113 chr 112 chr 106 chr 113 select case 3440 3440 1 else 0 end text chr 113 chr 122 chr 118 chr 122 chr 113 numeric 5846 5846',\n",
       " 'end qkkn like qkkn',\n",
       " '1 pzoo 8036 8036 6793 select 6793 pg sleep 5',\n",
       " '2120 8734 8844',\n",
       " '1 lomw 9257 9257 union select null null null null null null',\n",
       " '1 6784 6784 elt 3114 3114 sleep 5',\n",
       " '1 select syrz 7699 7699 union select null null null',\n",
       " '1 4595 4595',\n",
       " '4984 union select 6980 6980 6980 6980 6980 6980 6980 6980',\n",
       " '5224 1962 1962 union select 1962 1962 1962 1962 1962 1962 1962 1962 1962',\n",
       " '1 8514 select count domain domain t1 domain column t2 domain table t3',\n",
       " '1 select gboi 4191 4191 8514 select count domain domain t1 domain column t2 domain table t3',\n",
       " '1 union select null null null null null',\n",
       " '1 2633 dbms pipe receive message chr 112 chr 65 chr 65 chr 103 5 xmnd xmnd',\n",
       " '1 row 6237 7469 select count concat 0x7171706a71 select elt 6237 6237 1 0x717a767a71 floor rand 0 2 x select 5192 union select 3785 union select 3931 union select 7158 group x ejul ejul',\n",
       " '3721 union select 9050 9050',\n",
       " '1 paai 4089 4089 3707 select count sysibm systables t1 sysibm systables t2 sysibm systables t3',\n",
       " '1 elt 3114 3114 sleep 5',\n",
       " '1 order 1',\n",
       " '9281 8363 8363 make set 8220 5127 5127',\n",
       " '1 6671 6671 char 119 char 100 char 99 char 121 regexp substring repeat right char 1441 0 5000000000 null',\n",
       " 'end vwbx vwbx',\n",
       " '1 boolean mode 8189 select count sysibm systables t1 sysibm systables t2 sysibm systables t3',\n",
       " '1 rlike sleep 5 iwct iwct',\n",
       " '9087 order 1',\n",
       " '7562 8571 8571',\n",
       " '3707 8571 8571',\n",
       " '1 select twyt 3376 3376 7756 dbms utility sqlid sqlhash chr 113 chr 113 chr 112 chr 106 chr 113 select case 7756 7756 1 else 0 end dual chr 113 chr 122 chr 118 chr 122 chr 113',\n",
       " 'call regexp substring repeat right char 3702 0 500000000 null eevk eevk',\n",
       " ...]"
      ]
     },
     "execution_count": 11,
     "metadata": {},
     "output_type": "execute_result"
    }
   ],
   "source": [
    "preprocessed_query"
   ]
  },
  {
   "cell_type": "code",
   "execution_count": null,
   "metadata": {
    "id": "_exta7qIsluy"
   },
   "outputs": [],
   "source": [
    "data['Query'] = preprocessed_query"
   ]
  },
  {
   "cell_type": "code",
   "execution_count": null,
   "metadata": {
    "id": "XtTZIig2srVd"
   },
   "outputs": [],
   "source": [
    "X = data.drop(['Label'],axis=1)\n",
    "y = data['Label']"
   ]
  },
  {
   "cell_type": "markdown",
   "metadata": {
    "id": "kt8u_-BLfuT4"
   },
   "source": [
    "**Splitting data into Train and cross validation(or test) : Stratified Sampling**"
   ]
  },
  {
   "cell_type": "code",
   "execution_count": null,
   "metadata": {
    "id": "bepqSjivfXSg"
   },
   "outputs": [],
   "source": [
    "from sklearn.model_selection import train_test_split\n",
    "X_train,X_test,y_train,y_test = train_test_split(X,y,test_size=0.2,stratify=y) # We split the train data and test data of both X(input features)\n",
    "# and Y(class_lable)"
   ]
  },
  {
   "cell_type": "markdown",
   "metadata": {
    "id": "FJom-cIzoSBz"
   },
   "source": [
    "**BOW(Bag of Word)**"
   ]
  },
  {
   "cell_type": "code",
   "execution_count": null,
   "metadata": {
    "colab": {
     "base_uri": "https://localhost:8080/"
    },
    "id": "wHa3iRGdnxhT",
    "outputId": "346972cb-72ac-4b42-fa5f-d15684ab5e74"
   },
   "outputs": [
    {
     "name": "stdout",
     "output_type": "stream",
     "text": [
      "(24725, 1) (24725,)\n",
      "(6182, 1) (6182,)\n",
      "(24725, 20661) (24725,)\n",
      "(6182, 20661) (6182,)\n"
     ]
    }
   ],
   "source": [
    "print(X_train.shape,y_train.shape) # actual shape of X_train and y_train\n",
    "\n",
    "print(X_test.shape,y_test.shape) # actual shape of X_test and y_test\n",
    "\n",
    "# applying Bag of word on dataset\n",
    "\n",
    "count_vect = CountVectorizer()\n",
    "X_train_bow = count_vect.fit_transform(X_train['Query'])\n",
    "\n",
    "X_test_bow = count_vect.transform(X_test['Query'])\n",
    "print(X_train_bow.shape,y_train.shape) \n",
    "print(X_test_bow.shape,y_test.shape)\n"
   ]
  },
  {
   "cell_type": "code",
   "execution_count": null,
   "metadata": {
    "colab": {
     "base_uri": "https://localhost:8080/"
    },
    "id": "RFaqP62XywS3",
    "outputId": "fcfd723c-7034-4b9f-d5cc-17158f7cbf27"
   },
   "outputs": [
    {
     "name": "stdout",
     "output_type": "stream",
     "text": [
      "Fitting 11 folds for each of 15 candidates, totalling 165 fits\n",
      "Best Score:0.849479795185892\n",
      "Best Parameters: {'n_neighbors': 50}\n"
     ]
    }
   ],
   "source": [
    "#kNN (See Docs: https://scikit-learn.org/stable/modules/generated/sklearn.→neighbors.KNeighborsClassifier.html)\n",
    "from sklearn.model_selection import GridSearchCV, RepeatedStratifiedKFold\n",
    "from sklearn.neighbors import KNeighborsClassifier\n",
    "\n",
    "\n",
    "parameters = {'n_neighbors':[1,3,5,7,10,11,15,10,50,75,80,85,90,95,100]}\n",
    "rkf = StratifiedKFold(n_splits=11,random_state=42,shuffle=True)\n",
    "clf = KNeighborsClassifier()\n",
    "\n",
    "grid = GridSearchCV(estimator = clf, param_grid = parameters , scoring = 'roc_auc', verbose = 1, n_jobs = -1,cv=rkf)\n",
    "grid.fit(X_train_bow,y_train)\n",
    "\n",
    "print(\"Best Score:\" + str(grid.best_score_))\n",
    "print(\"Best Parameters: \" + str(grid.best_params_))"
   ]
  },
  {
   "cell_type": "code",
   "execution_count": 59,
   "metadata": {
    "colab": {
     "base_uri": "https://localhost:8080/"
    },
    "id": "naAxzfzGd6Af",
    "outputId": "a0cf48de-e61f-482d-fc21-a9537a91107f"
   },
   "outputs": [
    {
     "name": "stdout",
     "output_type": "stream",
     "text": [
      "0.7388790757526345\n"
     ]
    }
   ],
   "source": [
    "from sklearn.neighbors import KNeighborsClassifier\n",
    "\n",
    "clf = KNeighborsClassifier(n_neighbors = 50)\n",
    "clf.fit(X_train_bow,y_train)\n",
    "y_pred = clf.predict(X_train_bow)\n",
    "knn_train_auc = roc_auc_score(y_train,y_pred)\n",
    "print(knn_train_auc)\n"
   ]
  },
  {
   "cell_type": "code",
   "execution_count": 60,
   "metadata": {
    "colab": {
     "base_uri": "https://localhost:8080/"
    },
    "id": "mGQIKKT5ztp_",
    "outputId": "2baab343-bb38-401a-f410-b1bdd8b3568c"
   },
   "outputs": [
    {
     "name": "stdout",
     "output_type": "stream",
     "text": [
      "0.7486950588387745\n"
     ]
    }
   ],
   "source": [
    "y_test_pred = clf.predict(X_test_bow)\n",
    "knn_test_auc = roc_auc_score(y_test,y_pred_test)\n",
    "print(knn_test_auc)"
   ]
  },
  {
   "cell_type": "code",
   "execution_count": 61,
   "metadata": {
    "colab": {
     "base_uri": "https://localhost:8080/",
     "height": 295
    },
    "id": "UelZkpVZ0M2P",
    "outputId": "bb65e876-5a4d-4b9f-ad0f-3d0c39de4b2e"
   },
   "outputs": [
    {
     "data": {
      "image/png": "[encoded data removed]",
      "text/plain": [
       "<Figure size 432x288 with 1 Axes>"
      ]
     },
     "metadata": {
      "needs_background": "light"
     },
     "output_type": "display_data"
    }
   ],
   "source": [
    "train_fpr,train_tpr,tr_thresholds = roc_curve(y_train,y_pred)\n",
    "test_fpr,test_tpr,te_thresholds = roc_curve(y_test,y_test_pred)\n",
    "plt.plot(train_fpr,train_tpr,label = \"train_AUC=\"+str(auc(train_fpr,train_tpr)))\n",
    "plt.plot(test_fpr,test_tpr,label = \"Test_AUC=\"+str(auc(test_fpr,test_tpr)))\n",
    "plt.legend()\n",
    "plt.xlabel(\"False Positive Rate(FPR)\")\n",
    "plt.ylabel(\"True Positive Rate(TPR)\")\n",
    "plt.title(\"AUC\")\n",
    "plt.grid(linestyle='-', linewidth=2)"
   ]
  },
  {
   "cell_type": "code",
   "execution_count": 62,
   "metadata": {
    "colab": {
     "base_uri": "https://localhost:8080/"
    },
    "id": "ESRSMvl80zZh",
    "outputId": "94d95d99-4730-4c45-898a-c5dae7b3e712"
   },
   "outputs": [
    {
     "name": "stdout",
     "output_type": "stream",
     "text": [
      "F1 score: 0.6956377508707913\n"
     ]
    }
   ],
   "source": [
    "print(\"F1 score:\",f1_score(y_test,y_test_pred))"
   ]
  },
  {
   "cell_type": "markdown",
   "metadata": {
    "id": "Ij6AOW2cvVBZ"
   },
   "source": [
    "**Logistic Regression**"
   ]
  },
  {
   "cell_type": "code",
   "execution_count": null,
   "metadata": {
    "colab": {
     "base_uri": "https://localhost:8080/"
    },
    "id": "0iYFXXFyvYnB",
    "outputId": "e863f09f-91a9-4c47-8229-3319c315f605"
   },
   "outputs": [
    {
     "name": "stdout",
     "output_type": "stream",
     "text": [
      "Fitting 11 folds for each of 30 candidates, totalling 330 fits\n",
      "Best Score:0.9828339733593894\n",
      "Best Parameters: {'C': 10, 'penalty': 'l2', 'solver': 'sag'}\n"
     ]
    }
   ],
   "source": [
    "#ref https://scikit-learn.org/stable/modules/generated/sklearn.linear_model.LogisticRegression.html\n",
    "parameters = {'penalty':['l1', 'l2'], 'C':[0.001,0.01,0.1,1,10],'solver':['liblinear','saga','sag']}\n",
    "rkf = StratifiedKFold(n_splits=11,random_state=42,shuffle=True)\n",
    "clf = LogisticRegression(random_state=42)\n",
    "\n",
    "grid = GridSearchCV(estimator = clf, param_grid = parameters , scoring = 'roc_auc', verbose = 1, n_jobs = -1,cv=rkf)\n",
    "grid.fit(X_train_bow,y_train)\n",
    "\n",
    "print(\"Best Score:\" + str(grid.best_score_))\n",
    "print(\"Best Parameters: \" + str(grid.best_params_))\n",
    "\n",
    "\n"
   ]
  },
  {
   "cell_type": "code",
   "execution_count": 28,
   "metadata": {
    "colab": {
     "base_uri": "https://localhost:8080/"
    },
    "id": "r9A02U3U0Tp0",
    "outputId": "5c238373-2b89-4d37-92ab-e6f464a781cb"
   },
   "outputs": [
    {
     "name": "stdout",
     "output_type": "stream",
     "text": [
      "0.945246634285075\n"
     ]
    }
   ],
   "source": [
    "clf = LogisticRegression(C=10,penalty='l2',solver='saga')\n",
    "clf.fit(X_train_bow,y_train)\n",
    "\n",
    "y_pred = clf.predict(X_train_bow)\n",
    "logistic_train_auc = roc_auc_score(y_train,y_pred)\n",
    "print(logistic_train_auc)"
   ]
  },
  {
   "cell_type": "code",
   "execution_count": 29,
   "metadata": {
    "colab": {
     "base_uri": "https://localhost:8080/"
    },
    "id": "tM-06UZy7LrO",
    "outputId": "246c29f1-b547-4f86-81f8-6534728a44e8"
   },
   "outputs": [
    {
     "name": "stdout",
     "output_type": "stream",
     "text": [
      "0.9210989222115137\n"
     ]
    }
   ],
   "source": [
    "y_test_pred = clf.predict(X_test_bow)\n",
    "logistic_test_auc = roc_auc_score(y_test,y_test_pred)\n",
    "print(logistic_test_auc)"
   ]
  },
  {
   "cell_type": "code",
   "execution_count": 30,
   "metadata": {
    "colab": {
     "base_uri": "https://localhost:8080/",
     "height": 295
    },
    "id": "uqa1rZv375Mj",
    "outputId": "798b8cf4-9652-43da-fd42-c377e8713dcd"
   },
   "outputs": [
    {
     "data": {
      "image/png": "[encoded data removed]",
      "text/plain": [
       "<Figure size 432x288 with 1 Axes>"
      ]
     },
     "metadata": {
      "needs_background": "light"
     },
     "output_type": "display_data"
    }
   ],
   "source": [
    "train_fpr,train_tpr,tr_thresholds = roc_curve(y_train,y_pred)\n",
    "test_fpr,test_tpr,te_thresholds = roc_curve(y_test,y_test_pred)\n",
    "plt.plot(train_fpr,train_tpr,label = \"train_AUC=\"+str(auc(train_fpr,train_tpr)))\n",
    "plt.plot(test_fpr,test_tpr,label = \"Test_AUC=\"+str(auc(test_fpr,test_tpr)))\n",
    "plt.legend()\n",
    "plt.xlabel(\"False Positive Rate(FPR)\")\n",
    "plt.ylabel(\"True Positive Rate(TPR)\")\n",
    "plt.title(\"AUC\")\n",
    "plt.grid(linestyle='-', linewidth=2)"
   ]
  },
  {
   "cell_type": "code",
   "execution_count": 31,
   "metadata": {
    "colab": {
     "base_uri": "https://localhost:8080/"
    },
    "id": "JMlwiphf1Pst",
    "outputId": "b1372558-4d51-413d-a112-0bd7135b4941"
   },
   "outputs": [
    {
     "name": "stdout",
     "output_type": "stream",
     "text": [
      "F1-score 0.9134045077105576\n"
     ]
    }
   ],
   "source": [
    "print(\"F1-score\",f1_score(y_test,y_test_pred))"
   ]
  },
  {
   "cell_type": "markdown",
   "metadata": {
    "id": "MggwtaIv8uR2"
   },
   "source": [
    "**Naive Bayes Classifier**"
   ]
  },
  {
   "cell_type": "code",
   "execution_count": null,
   "metadata": {
    "colab": {
     "base_uri": "https://localhost:8080/"
    },
    "id": "8YmPSd2Q8yb7",
    "outputId": "6d25ec9b-bac1-4b4c-bcba-eb5d4f003b9f"
   },
   "outputs": [
    {
     "name": "stdout",
     "output_type": "stream",
     "text": [
      "Fitting 11 folds for each of 9 candidates, totalling 99 fits\n",
      "Best Score:0.9767960672151801\n",
      "Best Parameters: {'alpha': 0.1}\n"
     ]
    }
   ],
   "source": [
    "#ref https://scikit-learn.org/stable/modules/generated/sklearn.naive_bayes.MultinomialNB.html\n",
    "from sklearn.naive_bayes import MultinomialNB\n",
    "parameters = {'alpha':[0.00001,0.0001,0.001,0.01,0.1,1,10,100,1000]}\n",
    "\n",
    "rkf = StratifiedKFold(n_splits=11,random_state=42,shuffle=True)\n",
    "clf = MultinomialNB()\n",
    "\n",
    "grid = GridSearchCV(estimator = clf, param_grid = parameters , scoring = 'roc_auc', verbose = 1, n_jobs = -1,cv=rkf)\n",
    "grid.fit(X_train_bow,y_train)\n",
    "\n",
    "print(\"Best Score:\" + str(grid.best_score_))\n",
    "print(\"Best Parameters: \" + str(grid.best_params_))"
   ]
  },
  {
   "cell_type": "code",
   "execution_count": 34,
   "metadata": {
    "colab": {
     "base_uri": "https://localhost:8080/"
    },
    "id": "Z6ybJoo9EVPv",
    "outputId": "9c39b3bc-bafa-43ae-d735-2ac3c5d53168"
   },
   "outputs": [
    {
     "name": "stdout",
     "output_type": "stream",
     "text": [
      "0.983817737943144\n"
     ]
    }
   ],
   "source": [
    "clf = MultinomialNB(alpha=0.1)\n",
    "clf.fit(X_train_bow,y_train)\n",
    "\n",
    "y_pred = clf.predict(X_train_bow)\n",
    "multinomial_train_auc = roc_auc_score(y_train,y_pred)\n",
    "print(multinomial_train_auc)"
   ]
  },
  {
   "cell_type": "code",
   "execution_count": 35,
   "metadata": {
    "colab": {
     "base_uri": "https://localhost:8080/"
    },
    "id": "OouOyOw-EuVp",
    "outputId": "406d811a-63e1-4214-a326-ed2f110b4d98"
   },
   "outputs": [
    {
     "name": "stdout",
     "output_type": "stream",
     "text": [
      "0.9550856597528744\n"
     ]
    }
   ],
   "source": [
    "y_test_pred = clf.predict(X_test_bow)\n",
    "multinomial_test_auc = roc_auc_score(y_test,y_test_pred)\n",
    "print(multinomial_test_auc)"
   ]
  },
  {
   "cell_type": "code",
   "execution_count": 36,
   "metadata": {
    "colab": {
     "base_uri": "https://localhost:8080/",
     "height": 295
    },
    "id": "7dPE-bhzFRXI",
    "outputId": "c7851154-a447-49f6-e8bf-73a1a19e15e3"
   },
   "outputs": [
    {
     "data": {
      "image/png": "[encoded data removed]",
      "text/plain": [
       "<Figure size 432x288 with 1 Axes>"
      ]
     },
     "metadata": {
      "needs_background": "light"
     },
     "output_type": "display_data"
    }
   ],
   "source": [
    "train_fpr,train_tpr,tr_thresholds = roc_curve(y_train,y_pred)\n",
    "test_fpr,test_tpr,te_thresholds = roc_curve(y_test,y_test_pred)\n",
    "plt.plot(train_fpr,train_tpr,label = \"train_AUC=\"+str(auc(train_fpr,train_tpr)))\n",
    "plt.plot(test_fpr,test_tpr,label = \"Test_AUC=\"+str(auc(test_fpr,test_tpr)))\n",
    "plt.legend()\n",
    "plt.xlabel(\"False Positive Rate(FPR)\")\n",
    "plt.ylabel(\"True Positive Rate(TPR)\")\n",
    "plt.title(\"AUC\")\n",
    "plt.grid(linestyle='-', linewidth=2)"
   ]
  },
  {
   "cell_type": "code",
   "execution_count": 37,
   "metadata": {
    "colab": {
     "base_uri": "https://localhost:8080/"
    },
    "id": "L7yRyj152A2u",
    "outputId": "662047f3-e47d-4176-c14d-8a0f48bed511"
   },
   "outputs": [
    {
     "name": "stdout",
     "output_type": "stream",
     "text": [
      "f1 score: 0.9469917244464324\n"
     ]
    }
   ],
   "source": [
    "print(\"f1 score:\",f1_score(y_test,y_test_pred))"
   ]
  },
  {
   "cell_type": "markdown",
   "metadata": {
    "id": "M46vvyQ6F21t"
   },
   "source": [
    "**Support Vector Machine**"
   ]
  },
  {
   "cell_type": "code",
   "execution_count": null,
   "metadata": {
    "colab": {
     "base_uri": "https://localhost:8080/"
    },
    "id": "KXedwDzkHGMR",
    "outputId": "e629aebc-9b98-48ea-b066-37d632a39b28"
   },
   "outputs": [
    {
     "name": "stdout",
     "output_type": "stream",
     "text": [
      "Fitting 11 folds for each of 36 candidates, totalling 396 fits\n",
      "Best Score:0.9777949865757819\n",
      "Best Parameters: {'C': 1, 'kernel': 'linear'}\n"
     ]
    }
   ],
   "source": [
    "#ref = https://scikit-learn.org/stable/modules/svm.html\n",
    "\n",
    "\n",
    "parameters = {'C':[10**i for i in range(-4,5)],'kernel':['linear','poly','sigmoid','rdf']}\n",
    "\n",
    "#The instance of SVC\n",
    "rkf = StratifiedKFold(n_splits=11,random_state=42,shuffle=True)\n",
    "svc_model = SVC(random_state=42)\n",
    "#Used GridserachCV for Hyper-parameter\n",
    "grid = GridSearchCV(estimator = svc_model, param_grid = parameters , scoring = 'roc_auc', verbose = 1, n_jobs = -1,cv=rkf)\n",
    "grid.fit(X_train_bow,y_train)\n",
    "\n",
    "print(\"Best Score:\" + str(grid.best_score_))\n",
    "print(\"Best Parameters: \" + str(grid.best_params_))\n"
   ]
  },
  {
   "cell_type": "code",
   "execution_count": 40,
   "metadata": {
    "colab": {
     "base_uri": "https://localhost:8080/"
    },
    "id": "K2EVi7V2xeGB",
    "outputId": "133ee129-3ac7-4d12-9f32-18ca5e4f9472"
   },
   "outputs": [
    {
     "name": "stdout",
     "output_type": "stream",
     "text": [
      "0.9905338584283635\n"
     ]
    }
   ],
   "source": [
    "svc_clf = SVC(C = 1, kernel = 'linear')\n",
    "svc_clf.fit(X_train_bow,y_train)\n",
    "\n",
    "y_pred = svc_clf.predict(X_train_bow)\n",
    "svm_train_auc = roc_auc_score(y_train,y_pred)\n",
    "print(svm_train_auc)"
   ]
  },
  {
   "cell_type": "code",
   "execution_count": 41,
   "metadata": {
    "colab": {
     "base_uri": "https://localhost:8080/"
    },
    "id": "cv-pfp7O0p5u",
    "outputId": "457fc07b-f24a-414b-9e30-5c0498fcab5c"
   },
   "outputs": [
    {
     "name": "stdout",
     "output_type": "stream",
     "text": [
      "0.9152781489790391\n"
     ]
    }
   ],
   "source": [
    "y_test_pred = svc_clf.predict(X_test_bow)\n",
    "svm_test_auc = roc_auc_score(y_test,y_test_pred)\n",
    "print(svm_test_auc)"
   ]
  },
  {
   "cell_type": "code",
   "execution_count": 42,
   "metadata": {
    "colab": {
     "base_uri": "https://localhost:8080/",
     "height": 295
    },
    "id": "seNOuXTv06YK",
    "outputId": "b26d321c-916a-4c0f-8824-722cf3451a0a"
   },
   "outputs": [
    {
     "data": {
      "image/png": "[encoded data removed]",
      "text/plain": [
       "<Figure size 432x288 with 1 Axes>"
      ]
     },
     "metadata": {
      "needs_background": "light"
     },
     "output_type": "display_data"
    }
   ],
   "source": [
    "train_fpr,train_tpr,tr_thresholds = roc_curve(y_train,y_pred)\n",
    "test_fpr,test_tpr,te_thresholds = roc_curve(y_test,y_test_pred)\n",
    "plt.plot(train_fpr,train_tpr,label = \"train_AUC=\"+str(auc(train_fpr,train_tpr)))\n",
    "plt.plot(test_fpr,test_tpr,label = \"Test_AUC=\"+str(auc(test_fpr,test_tpr)))\n",
    "plt.legend()\n",
    "plt.xlabel(\"False Positive Rate(FPR)\")\n",
    "plt.ylabel(\"True Positive Rate(TPR)\")\n",
    "plt.title(\"AUC\")\n",
    "plt.grid(linestyle='-', linewidth=2)"
   ]
  },
  {
   "cell_type": "code",
   "execution_count": 43,
   "metadata": {
    "colab": {
     "base_uri": "https://localhost:8080/"
    },
    "id": "g-tJa0f-27YH",
    "outputId": "17460dd6-be9e-4b38-ef2c-03ee8e732d96"
   },
   "outputs": [
    {
     "name": "stdout",
     "output_type": "stream",
     "text": [
      "f1-score: 0.906145783706527\n"
     ]
    }
   ],
   "source": [
    "print(\"f1-score:\",f1_score(y_test,y_test_pred))"
   ]
  },
  {
   "cell_type": "markdown",
   "metadata": {
    "id": "yxKV-QSQ1Nzk"
   },
   "source": [
    "**Decision Tree Classifier**"
   ]
  },
  {
   "cell_type": "code",
   "execution_count": null,
   "metadata": {
    "colab": {
     "base_uri": "https://localhost:8080/"
    },
    "id": "SbWesKrD1hRn",
    "outputId": "cc5a6c23-406d-477d-cc77-9fd74c57e1ed"
   },
   "outputs": [
    {
     "name": "stdout",
     "output_type": "stream",
     "text": [
      "Fitting 11 folds for each of 5 candidates, totalling 55 fits\n",
      "Best Score:0.8923976951098704\n",
      "Best Parameters: {'max_depth': 9}\n"
     ]
    }
   ],
   "source": [
    "#ref =https://scikit-learn.org/stable/modules/generated/sklearn.tree.DecisionTreeClassifier.html\n",
    "\n",
    "params =  {'max_depth':[2,3,5,7,9]}\n",
    "\n",
    "#The instance of SVC\n",
    "rkf = StratifiedKFold(n_splits=11,random_state=42,shuffle=True)\n",
    "tree_model = DecisionTreeClassifier(random_state=42)\n",
    "#Used GridserachCV for Hyper-parameter\n",
    "grid = GridSearchCV(estimator = tree_model, param_grid = params, scoring = 'roc_auc', verbose = 1, n_jobs = -1,cv=rkf)\n",
    "grid.fit(X_train_bow,y_train)\n",
    "\n",
    "print(\"Best Score:\" + str(grid.best_score_))\n",
    "print(\"Best Parameters: \" + str(grid.best_params_))\n",
    "\n",
    "\n",
    "\n"
   ]
  },
  {
   "cell_type": "code",
   "execution_count": 44,
   "metadata": {
    "colab": {
     "base_uri": "https://localhost:8080/"
    },
    "id": "ru-3VmrB2mYA",
    "outputId": "fc10f6db-6c9f-471e-ddbf-774a30fc9051"
   },
   "outputs": [
    {
     "name": "stdout",
     "output_type": "stream",
     "text": [
      "0.8467260561714017\n"
     ]
    }
   ],
   "source": [
    "tree_clf = DecisionTreeClassifier(max_depth=9)\n",
    "tree_clf.fit(X_train_bow,y_train)\n",
    "\n",
    "y_pred = tree_clf.predict(X_train_bow)\n",
    "tree_train_auc = roc_auc_score(y_train,y_pred)\n",
    "print(tree_train_auc)\n"
   ]
  },
  {
   "cell_type": "code",
   "execution_count": 45,
   "metadata": {
    "colab": {
     "base_uri": "https://localhost:8080/"
    },
    "id": "FwkEBsz724xE",
    "outputId": "35851a84-fbc2-4881-a46e-b3ae319380e6"
   },
   "outputs": [
    {
     "name": "stdout",
     "output_type": "stream",
     "text": [
      "0.8464668838981442\n"
     ]
    }
   ],
   "source": [
    "y_test_pred = tree_clf.predict(X_test_bow)\n",
    "tree_test_auc = roc_auc_score(y_test,y_test_pred)\n",
    "print(tree_test_auc)"
   ]
  },
  {
   "cell_type": "code",
   "execution_count": 46,
   "metadata": {
    "colab": {
     "base_uri": "https://localhost:8080/",
     "height": 295
    },
    "id": "RqpGkYVP3E54",
    "outputId": "0fa5e74c-47b4-4a09-af8a-0ae6b34db17a"
   },
   "outputs": [
    {
     "data": {
      "image/png": "[encoded data removed]",
      "text/plain": [
       "<Figure size 432x288 with 1 Axes>"
      ]
     },
     "metadata": {
      "needs_background": "light"
     },
     "output_type": "display_data"
    }
   ],
   "source": [
    "train_fpr,train_tpr,tr_thresholds = roc_curve(y_train,y_pred)\n",
    "test_fpr,test_tpr,te_thresholds = roc_curve(y_test,y_test_pred)\n",
    "plt.plot(train_fpr,train_tpr,label = \"train_AUC=\"+str(auc(train_fpr,train_tpr)))\n",
    "plt.plot(test_fpr,test_tpr,label = \"Test_AUC=\"+str(auc(test_fpr,test_tpr)))\n",
    "plt.legend()\n",
    "plt.xlabel(\"False Positive Rate(FPR)\")\n",
    "plt.ylabel(\"True Positive Rate(TPR)\")\n",
    "plt.title(\"AUC\")\n",
    "plt.grid(linestyle='-', linewidth=2)"
   ]
  },
  {
   "cell_type": "code",
   "execution_count": 47,
   "metadata": {
    "colab": {
     "base_uri": "https://localhost:8080/"
    },
    "id": "6cVOYEwo3bDs",
    "outputId": "9a82d2ad-4718-4371-bbae-4da5289634ec"
   },
   "outputs": [
    {
     "name": "stdout",
     "output_type": "stream",
     "text": [
      "f1-score: 0.8168656337312674\n"
     ]
    }
   ],
   "source": [
    "print(\"f1-score:\",f1_score(y_test,y_test_pred))"
   ]
  },
  {
   "cell_type": "markdown",
   "metadata": {
    "id": "qpicPlWL3TLY"
   },
   "source": [
    "**Gradient Boosting Algorithm**"
   ]
  },
  {
   "cell_type": "code",
   "execution_count": null,
   "metadata": {
    "colab": {
     "background_save": true,
     "base_uri": "https://localhost:8080/"
    },
    "id": "ADeg6wRZ3PD1",
    "outputId": "6a4c223e-4fc1-4bd4-e578-fa603baf626e"
   },
   "outputs": [
    {
     "name": "stdout",
     "output_type": "stream",
     "text": [
      "Fitting 11 folds for each of 24 candidates, totalling 264 fits\n",
      "Best Score:0.9633525175171959\n",
      "Best Parameters: {'max_depth': 7, 'n_estimators': 60}\n"
     ]
    }
   ],
   "source": [
    "from sklearn.ensemble import GradientBoostingClassifier\n",
    "params = {'n_estimators': [10,20,30,40,50,60],'max_depth':[2,3,5,7]}\n",
    "rkf = StratifiedKFold(n_splits=11,random_state=42,shuffle=True)\n",
    "gbdt_model = GradientBoostingClassifier(random_state=42)\n",
    "#Used GridserachCV for Hyper-parameter\n",
    "grid = GridSearchCV(estimator = gbdt_model, param_grid = params, scoring = 'roc_auc', verbose = 1, n_jobs = -1,cv=rkf)\n",
    "grid.fit(X_train_bow,y_train)\n",
    "\n",
    "print(\"Best Score:\" + str(grid.best_score_))\n",
    "print(\"Best Parameters: \" + str(grid.best_params_))\n"
   ]
  },
  {
   "cell_type": "code",
   "execution_count": 49,
   "metadata": {
    "colab": {
     "base_uri": "https://localhost:8080/"
    },
    "id": "eCPZv_Mg4pGF",
    "outputId": "3eda1539-faf3-449a-b506-8869c08a4ddd"
   },
   "outputs": [
    {
     "name": "stdout",
     "output_type": "stream",
     "text": [
      "0.9089971286045554\n"
     ]
    }
   ],
   "source": [
    "gbdt_clf = GradientBoostingClassifier(max_depth = 7, n_estimators = 60)\n",
    "gbdt_clf.fit(X_train_bow,y_train)\n",
    "\n",
    "y_pred = gbdt_clf.predict(X_train_bow)\n",
    "gbdt_train_auc = roc_auc_score(y_train,y_pred)\n",
    "print(gbdt_train_auc)"
   ]
  },
  {
   "cell_type": "code",
   "execution_count": 50,
   "metadata": {
    "colab": {
     "base_uri": "https://localhost:8080/"
    },
    "id": "A0jaj_-87vDY",
    "outputId": "05ddb72c-99fc-4b55-f12e-bbf56481b12a"
   },
   "outputs": [
    {
     "name": "stdout",
     "output_type": "stream",
     "text": [
      "0.9064768545889925\n"
     ]
    }
   ],
   "source": [
    "y_test_pred = gbdt_clf.predict(X_test_bow)\n",
    "gbdt_test_auc = roc_auc_score(y_test,y_test_pred)\n",
    "print(gbdt_test_auc)"
   ]
  },
  {
   "cell_type": "code",
   "execution_count": 51,
   "metadata": {
    "colab": {
     "base_uri": "https://localhost:8080/",
     "height": 295
    },
    "id": "ILuSJ9jQ7xot",
    "outputId": "0d9e19d5-e24d-4c7d-fd2f-19a34d85b82b"
   },
   "outputs": [
    {
     "data": {
      "image/png": "[encoded data removed]",
      "text/plain": [
       "<Figure size 432x288 with 1 Axes>"
      ]
     },
     "metadata": {
      "needs_background": "light"
     },
     "output_type": "display_data"
    }
   ],
   "source": [
    "train_fpr,train_tpr,tr_thresholds = roc_curve(y_train,y_pred)\n",
    "test_fpr,test_tpr,te_thresholds = roc_curve(y_test,y_test_pred)\n",
    "plt.plot(train_fpr,train_tpr,label = \"train_AUC=\"+str(auc(train_fpr,train_tpr)))\n",
    "plt.plot(test_fpr,test_tpr,label = \"Test_AUC=\"+str(auc(test_fpr,test_tpr)))\n",
    "plt.legend()\n",
    "plt.xlabel(\"False Positive Rate(FPR)\")\n",
    "plt.ylabel(\"True Positive Rate(TPR)\")\n",
    "plt.title(\"AUC\")\n",
    "plt.grid(linestyle='-', linewidth=2)"
   ]
  },
  {
   "cell_type": "code",
   "execution_count": 52,
   "metadata": {
    "colab": {
     "base_uri": "https://localhost:8080/"
    },
    "id": "SLo6kGN431XQ",
    "outputId": "dda2234f-48e4-4724-91c4-53f1c370b6ec"
   },
   "outputs": [
    {
     "name": "stdout",
     "output_type": "stream",
     "text": [
      "f1-score: 0.893748514380794\n"
     ]
    }
   ],
   "source": [
    "print(\"f1-score:\",f1_score(y_test,y_test_pred))"
   ]
  },
  {
   "cell_type": "markdown",
   "metadata": {
    "id": "iUQ4xzCgvLRq"
   },
   "source": [
    "**Stacking Classifier**"
   ]
  },
  {
   "cell_type": "code",
   "execution_count": 53,
   "metadata": {
    "id": "aGRt2wdfv9s6"
   },
   "outputs": [],
   "source": [
    "import six\n",
    "import sys\n",
    "sys.modules['sklearn.externals.six'] = six"
   ]
  },
  {
   "cell_type": "code",
   "execution_count": 54,
   "metadata": {
    "id": "qvsY42NkxBsP"
   },
   "outputs": [],
   "source": [
    "from mlxtend.classifier import StackingClassifier\n",
    "from sklearn.svm import SVC\n",
    "from sklearn.naive_bayes import MultinomialNB"
   ]
  },
  {
   "cell_type": "code",
   "execution_count": 63,
   "metadata": {
    "id": "lFP7ah6dxE-t"
   },
   "outputs": [],
   "source": [
    "#classifier 1\n",
    "knn_model = KNeighborsClassifier(n_neighbors = 50)\n",
    "knn_model.fit(X_train_bow,y_train)\n",
    "\n",
    "#Classifier 2\n",
    "model = LogisticRegression(C= 10, penalty = 'l2', solver = 'sag')\n",
    "model.fit(X_train_bow,y_train)\n",
    "\n",
    "naive_clf = MultinomialNB(alpha=0.1)\n",
    "naive_clf.fit(X_train_bow,y_train)\n",
    "\n",
    "#Classifier 3\n",
    "svc_clf = SVC(C = 1, kernel = 'linear')\n",
    "svc_clf.fit(X_train_bow,y_train)\n",
    "\n",
    "#classifier 4\n",
    "\n",
    "\n",
    "tree_clf = DecisionTreeClassifier(max_depth = 9)\n",
    "tree_clf.fit(X_train_bow,y_train)\n",
    "\n",
    "#classifier 5\n",
    "gbdt_clf = GradientBoostingClassifier(max_depth = 7, n_estimators = 60)\n",
    "gbdt_clf.fit(X_train_bow,y_train)\n",
    "\n",
    "\n",
    "#Stacking Classifer\n",
    "\n",
    "sclf = StackingClassifier(classifiers=[knn_model,model,naive_clf,svc_clf,tree_clf,gbdt_clf],meta_classifier=model)\n",
    "\n",
    "#fit the model\n",
    "sclf.fit(X_train_bow,y_train)\n",
    "\n",
    "#predict in probabilities\n",
    "\n",
    "y_pred = sclf.predict(X_train_bow)\n"
   ]
  },
  {
   "cell_type": "code",
   "execution_count": 64,
   "metadata": {
    "colab": {
     "base_uri": "https://localhost:8080/"
    },
    "id": "9mdmEy_6yO-6",
    "outputId": "0b8db6a8-77bb-4652-dc11-fa5edf579d11"
   },
   "outputs": [
    {
     "name": "stdout",
     "output_type": "stream",
     "text": [
      "0.9907445151441261\n"
     ]
    }
   ],
   "source": [
    "train_auc = roc_auc_score(y_train,y_pred)\n",
    "print(train_auc)"
   ]
  },
  {
   "cell_type": "code",
   "execution_count": 65,
   "metadata": {
    "colab": {
     "base_uri": "https://localhost:8080/"
    },
    "id": "qLZnBszL0k0O",
    "outputId": "850a098f-56ff-4d63-a2d8-9f7e067cfb90"
   },
   "outputs": [
    {
     "name": "stdout",
     "output_type": "stream",
     "text": [
      "0.9316264149517168\n"
     ]
    }
   ],
   "source": [
    "y_test_pred = sclf.predict(X_test_bow)\n",
    "test_auc = roc_auc_score(y_test,y_test_pred)\n",
    "print(test_auc)"
   ]
  },
  {
   "cell_type": "code",
   "execution_count": 66,
   "metadata": {
    "colab": {
     "base_uri": "https://localhost:8080/",
     "height": 295
    },
    "id": "Y4CxjxS5012M",
    "outputId": "82479afd-127b-416a-af53-ba12763b87e4"
   },
   "outputs": [
    {
     "data": {
      "image/png": "[encoded data removed]",
      "text/plain": [
       "<Figure size 432x288 with 1 Axes>"
      ]
     },
     "metadata": {
      "needs_background": "light"
     },
     "output_type": "display_data"
    }
   ],
   "source": [
    "train_fpr,train_tpr,tr_thresholds = roc_curve(y_train,y_pred)\n",
    "test_fpr,test_tpr,te_thresholds = roc_curve(y_test,y_test_pred)\n",
    "plt.plot(train_fpr,train_tpr,label = \"train_AUC=\"+str(auc(train_fpr,train_tpr)))\n",
    "plt.plot(test_fpr,test_tpr,label = \"Test_AUC=\"+str(auc(test_fpr,test_tpr)))\n",
    "plt.legend()\n",
    "plt.xlabel(\"False Positive Rate(FPR)\")\n",
    "plt.ylabel(\"True Positive Rate(TPR)\")\n",
    "plt.title(\"AUC\")\n",
    "plt.grid(linestyle='-', linewidth=2)"
   ]
  },
  {
   "cell_type": "code",
   "execution_count": 67,
   "metadata": {
    "colab": {
     "base_uri": "https://localhost:8080/"
    },
    "id": "_U5q1KCB0-0_",
    "outputId": "2544d0a4-464b-4fde-c31a-c3acfe34a265"
   },
   "outputs": [
    {
     "name": "stdout",
     "output_type": "stream",
     "text": [
      "F1 score: 0.9251286850725315\n"
     ]
    }
   ],
   "source": [
    "print(\"F1 score:\",f1_score(y_test,y_test_pred))"
   ]
  },
  {
   "cell_type": "markdown",
   "metadata": {},
   "source": [
    "### Summary of All Models"
   ]
  },
  {
   "cell_type": "code",
   "execution_count": 1,
   "metadata": {},
   "outputs": [
    {
     "name": "stdout",
     "output_type": "stream",
     "text": [
      "+----------------------+---------------------+-----------+----------+----------+\n",
      "|        Model         |   Hyper-parameter   | Train AUC | Test AUC | f1_score |\n",
      "+======================+=====================+===========+==========+==========+\n",
      "| Knn_Model            | {'n_neighbors': 50} | 0.730     | 0.740    | 0.690    |\n",
      "+----------------------+---------------------+-----------+----------+----------+\n",
      "| logistic Regresstion | {'C': 10,           | 0.940     | 0.920    | 0.910    |\n",
      "|                      | 'penalty': 'l2',    |           |          |          |\n",
      "|                      | 'solver': 'sag'}    |           |          |          |\n",
      "+----------------------+---------------------+-----------+----------+----------+\n",
      "| Support Vector       | {'C': 1, 'kernel':  | 0.990     | 0.910    | 0.900    |\n",
      "| Machine              | 'linear'}           |           |          |          |\n",
      "+----------------------+---------------------+-----------+----------+----------+\n",
      "| Gradient Boosting    | {'max_depth': 7,    | 0.900     | 0.900    | 0.890    |\n",
      "| Algorithm            | 'n_estimators': 60} |           |          |          |\n",
      "+----------------------+---------------------+-----------+----------+----------+\n",
      "| Decision_tree Model  | {'max_depth': 9}    | 0.840     | 0.840    | 0.810    |\n",
      "+----------------------+---------------------+-----------+----------+----------+\n",
      "| Naive Bayes          | {'alpha': 0.1}      | 0.980     | 0.950    | 0.940    |\n",
      "+----------------------+---------------------+-----------+----------+----------+\n",
      "| Calibrated Model     | --                  | 0.990     | 0.930    | 0.920    |\n",
      "+----------------------+---------------------+-----------+----------+----------+\n"
     ]
    }
   ],
   "source": [
    "from texttable import Texttable\n",
    "t = Texttable()\n",
    "t.add_rows([['Model','Hyper-parameter','Train AUC','Test AUC','f1_score'],['Knn_Model',r\"{'n_neighbors': 50}\",0.73,0.74,0.69],\n",
    "           ['logistic Regresstion',r\"{'C': 10, 'penalty': 'l2', 'solver': 'sag'}\",0.94,0.92,0.91],['Support Vector Machine',\n",
    "           r\"{'C': 1, 'kernel': 'linear'}\",0.99,0.91,0.90],['Gradient Boosting Algorithm',r\"{'max_depth': 7, 'n_estimators': 60}\",0.90,0.90,0.89],\n",
    "            ['Decision_tree Model',r\"{'max_depth': 9}\",0.84,0.84,0.81],['Naive Bayes',r\"{'alpha': 0.1}\",.98,0.95,0.94],\n",
    "            ['Calibrated Model',\"--\",0.99,0.93,0.92]])\n",
    "\n",
    "print(t.draw())\n",
    "\n"
   ]
  },
  {
   "cell_type": "markdown",
   "metadata": {},
   "source": [
    "### Observation"
   ]
  },
  {
   "cell_type": "markdown",
   "metadata": {},
   "source": [
    "We have done text-preprcoessing technique on SQL query and apply bag of words to come with vectorization. \n",
    "\n",
    "We have applied 7 Machine learning model such as Knn_Model, Logistic Regression,Support Vector Machine, Gradient Boosting algorithm, Decision_tree model, Naive Bayes Model and calibrated model.\n",
    "\n",
    "Used AUC as evaluation metrics.\n",
    "\n",
    "We found Naive Bayes model as best model with AUC =0.95 for this experiment.\n",
    "\n"
   ]
  },
  {
   "cell_type": "code",
   "execution_count": null,
   "metadata": {},
   "outputs": [],
   "source": []
  }
 ],
 "metadata": {
  "colab": {
   "collapsed_sections": [],
   "name": "Case_Study_Bag_of_word_+Model_1.ipynb",
   "provenance": []
  },
  "kernelspec": {
   "display_name": "Python 3",
   "language": "python",
   "name": "python3"
  },
  "language_info": {
   "codemirror_mode": {
    "name": "ipython",
    "version": 3
   },
   "file_extension": ".py",
   "mimetype": "text/x-python",
   "name": "python",
   "nbconvert_exporter": "python",
   "pygments_lexer": "ipython3",
   "version": "3.6.5"
  }
 },
 "nbformat": 4,
 "nbformat_minor": 1
}
